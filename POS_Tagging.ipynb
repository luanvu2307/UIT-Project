{
  "nbformat": 4,
  "nbformat_minor": 0,
  "metadata": {
    "colab": {
      "name": "POS Tagging.ipynb",
      "provenance": [],
      "collapsed_sections": [],
      "mount_file_id": "12zhGNR1YGw7-KASoM-GLBhnvD5JUhjqe",
      "authorship_tag": "ABX9TyPrMT5CbI+GaVmGMKnstTer",
      "include_colab_link": true
    },
    "kernelspec": {
      "name": "python3",
      "display_name": "Python 3"
    }
  },
  "cells": [
    {
      "cell_type": "markdown",
      "metadata": {
        "id": "view-in-github",
        "colab_type": "text"
      },
      "source": [
        "<a href=\"https://colab.research.google.com/github/snfruby/CS114.K21/blob/master/POS_Tagging.ipynb\" target=\"_parent\"><img src=\"https://colab.research.google.com/assets/colab-badge.svg\" alt=\"Open In Colab\"/></a>"
      ]
    },
    {
      "cell_type": "markdown",
      "metadata": {
        "id": "FkFM1ZZah1hH"
      },
      "source": [
        "# Import thư viện cần thiết"
      ]
    },
    {
      "cell_type": "code",
      "metadata": {
        "colab": {
          "base_uri": "https://localhost:8080/"
        },
        "id": "OKysap_6BsCa",
        "outputId": "ae57486c-54fc-4caa-ed58-331059d3e48b"
      },
      "source": [
        "pip install sklearn_crfsuite "
      ],
      "execution_count": 34,
      "outputs": [
        {
          "output_type": "stream",
          "text": [
            "Requirement already satisfied: sklearn_crfsuite in /usr/local/lib/python3.6/dist-packages (0.3.6)\n",
            "Requirement already satisfied: tqdm>=2.0 in /usr/local/lib/python3.6/dist-packages (from sklearn_crfsuite) (4.41.1)\n",
            "Requirement already satisfied: tabulate in /usr/local/lib/python3.6/dist-packages (from sklearn_crfsuite) (0.8.7)\n",
            "Requirement already satisfied: python-crfsuite>=0.8.3 in /usr/local/lib/python3.6/dist-packages (from sklearn_crfsuite) (0.9.7)\n",
            "Requirement already satisfied: six in /usr/local/lib/python3.6/dist-packages (from sklearn_crfsuite) (1.15.0)\n"
          ],
          "name": "stdout"
        }
      ]
    },
    {
      "cell_type": "code",
      "metadata": {
        "id": "dyoYxb3j-wor"
      },
      "source": [
        "import nltk\r\n",
        "from sklearn.model_selection import train_test_split\r\n",
        "import re\r\n",
        "from sklearn_crfsuite import metrics\r\n",
        "from sklearn_crfsuite import scorers\r\n",
        "from sklearn_crfsuite import CRF"
      ],
      "execution_count": 35,
      "outputs": []
    },
    {
      "cell_type": "markdown",
      "metadata": {
        "id": "iJL-JBxJiE4-"
      },
      "source": [
        "# Upload + tiền xử lý 40 câu test\r\n"
      ]
    },
    {
      "cell_type": "code",
      "metadata": {
        "id": "TtfCGEnj3BU9"
      },
      "source": [
        "f = open('/content/50_60CAU.txt', 'r')\r\n",
        "raw = f.read()"
      ],
      "execution_count": 36,
      "outputs": []
    },
    {
      "cell_type": "code",
      "metadata": {
        "id": "vfQ22R7L-AXZ"
      },
      "source": [
        "raw = raw.replace(\"\\n\", \" \")"
      ],
      "execution_count": 37,
      "outputs": []
    },
    {
      "cell_type": "code",
      "metadata": {
        "id": "v6GQhjvh-MB1"
      },
      "source": [
        "raw2 = raw.split('. ')"
      ],
      "execution_count": 38,
      "outputs": []
    },
    {
      "cell_type": "code",
      "metadata": {
        "colab": {
          "base_uri": "https://localhost:8080/"
        },
        "id": "Cthgjc-C_VhM",
        "outputId": "ca4eada7-6fd8-421c-9a30-03f37a9387c4"
      },
      "source": [
        "for i in range(len(raw2)):\r\n",
        "  raw2[i] = re.sub('([.,!?()])', r' \\1 ', raw2[i])\r\n",
        "  raw2[i] = re.sub('\\s{2,}', ' ', raw2[i])\r\n",
        "raw2"
      ],
      "execution_count": 39,
      "outputs": [
        {
          "output_type": "execute_result",
          "data": {
            "text/plain": [
              "['Insects , birds and fish tend to be the creatures that humans feel furthest from',\n",
              " 'Unlike many mammals they do not engage in human-like behaviour',\n",
              " \"The way they swarm or flock together does not usually get good press coverage either: marching like worker ants might be a common simile for city commuters , but it's a damning , not positive , image\",\n",
              " 'Yet a new school of scientific theory suggests that these swarms might have a lot to teach us',\n",
              " \"American author Peter Miller explains , 'I used to think that individual ants knew where they were going , and what they were supposed to do when they got there\",\n",
              " 'But Deborah Gordon , a biologist at Stanford University , showed me that nothing an ant does makes any sense except in terms of the whole colony',\n",
              " \"Which makes you wonder if , as individuals , we don't serve a similar function for the companies where we work or the communities where we live . ' Ants are not intelligent by themselves\",\n",
              " 'Yet as a colony , they make wise decisions',\n",
              " \"And as Gordon discovered during her research , there's no one ant making decisions or giving orders\",\n",
              " 'Take food collecting',\n",
              " \"No ant decides , 'There's lots of food around today; lots of ants should go out to collect it . ' Instead , some foragers go out , and as soon as they find food , they pick it up and come back to the nest\",\n",
              " \"At the entrance , they brush past reserve foragers , sending a 'go out' signal\",\n",
              " 'The faster the foragers come back , the more food there is and the faster other foragers go out , until gradually the amount of food being brought back diminishes',\n",
              " \"An organic calculation has been made to answer the question , 'How many foragers does the colony need today ? ' And if something goes wrong – a hungry lizard prowling around for an ant snack , for instance – then a rush of ants returning without food sends waiting reserves a 'Don't go out' signal\",\n",
              " 'William Henry Perkin was born on March 12 , 1838 , in London , England',\n",
              " 'As a boy , Perkin’s curiosity prompted early interests in the arts , sciences , photography , and engineering',\n",
              " 'But it was a chance stumbling upon a run-down',\n",
              " 'yet functional , laboratory in his late grandfathers home that solidified the young man`s enthusiasm for chemistry',\n",
              " 'As a student at the City of London School , Perkin became immersed in the study of chemistry',\n",
              " 'His talent and devotion to the subject were perceived by his teacher , Thomas Hall , who encouraged him to attend a series of lectures given by the eminent scientist Michael Faraday at the Royal Institution',\n",
              " 'Those speeches tired the young chemist`s enthusiasm further , and he later went on to attend the Royal College of Chemistry , which he succeeded in entering in 1853 , at the age of 15',\n",
              " 'At the time of Perkin’s enrollment the Royal College of Chemistry was headed by the noted German chemist August Wilhelm Hofmann',\n",
              " 'Perkin’s scientific gifts soon caught Hofmann’s attention and , within two years , he became Hofmann’s youngest assistant',\n",
              " 'Not long after that , Perkin made the scientific breakthrough that would bring him both fame and fortune',\n",
              " 'At the time , quinine was the only viable medical treatment for malaria',\n",
              " 'The drug is derived from the bark of the cinchona tree , native to South America and by 1856 demand for the drug was surpassing the available supply',\n",
              " 'Thus , when Hofmann made some passing comments about the desirability of a synthetic substitute for quinine',\n",
              " 'it was unsurprising that his star pupil was moved to take up the challenge',\n",
              " \"During his vacation in 1856 , Perkin spent his time in the laboratory on the top floor of his family's house\",\n",
              " 'He was attempting to manufacture quinine from aniline , an inexpensive and readily available coal tar waste product',\n",
              " 'Despite his best efforts , however , he did not end up with quinine',\n",
              " 'Instead , he produced a mysterious dark sludge',\n",
              " 'Luckily , Perkins scientific training and nature prompted him to investigate the substance further',\n",
              " 'Incorporating potassium dichromate and alcohol into the aniline at various stages of the experimental process , he finally produced a deep purple solution',\n",
              " \"And , proving the truth of the famous scientist Louis Pasteur`s words 'chance favors only the prepared mind'\",\n",
              " 'Perkin saw the potential of his unexpected find',\n",
              " 'Historically',\n",
              " 'textile dyes were made from such natural sources as plants and animal excretions',\n",
              " 'Some of these , such as the glandular mucus of snails , were difficult to obtain and outrageously expensive',\n",
              " 'Indeed , the purple colour extracted from a snail was once so costly that in society at the time only the rich could afford it',\n",
              " 'Further , natural dyes tended to be muddy in hue and fade quickly',\n",
              " 'It was against this backdrop that Perkin‘s discovery- was made . ']"
            ]
          },
          "metadata": {
            "tags": []
          },
          "execution_count": 39
        }
      ]
    },
    {
      "cell_type": "markdown",
      "metadata": {
        "id": "WrP74TzaiODJ"
      },
      "source": [
        "#Download Train Dataset (Treebank)"
      ]
    },
    {
      "cell_type": "code",
      "metadata": {
        "colab": {
          "base_uri": "https://localhost:8080/"
        },
        "id": "8SF2R3eECEkL",
        "outputId": "32f42dfc-2517-407f-e6c0-8b9a425f1655"
      },
      "source": [
        "nltk.download('treebank')"
      ],
      "execution_count": 40,
      "outputs": [
        {
          "output_type": "stream",
          "text": [
            "[nltk_data] Downloading package treebank to /root/nltk_data...\n",
            "[nltk_data]   Package treebank is already up-to-date!\n"
          ],
          "name": "stdout"
        },
        {
          "output_type": "execute_result",
          "data": {
            "text/plain": [
              "True"
            ]
          },
          "metadata": {
            "tags": []
          },
          "execution_count": 40
        }
      ]
    },
    {
      "cell_type": "code",
      "metadata": {
        "colab": {
          "base_uri": "https://localhost:8080/"
        },
        "id": "NmbRQZahJwr4",
        "outputId": "ed0aaa82-2857-400f-9404-0fe1a394d2d4"
      },
      "source": [
        "nltk.download('averaged_perceptron_tagger')"
      ],
      "execution_count": 41,
      "outputs": [
        {
          "output_type": "stream",
          "text": [
            "[nltk_data] Downloading package averaged_perceptron_tagger to\n",
            "[nltk_data]     /root/nltk_data...\n",
            "[nltk_data]   Package averaged_perceptron_tagger is already up-to-\n",
            "[nltk_data]       date!\n"
          ],
          "name": "stdout"
        },
        {
          "output_type": "execute_result",
          "data": {
            "text/plain": [
              "True"
            ]
          },
          "metadata": {
            "tags": []
          },
          "execution_count": 41
        }
      ]
    },
    {
      "cell_type": "code",
      "metadata": {
        "id": "mmC-TCSGB-x7"
      },
      "source": [
        "tagged_sentences = nltk.corpus.treebank.tagged_sents()"
      ],
      "execution_count": 42,
      "outputs": []
    },
    {
      "cell_type": "code",
      "metadata": {
        "colab": {
          "base_uri": "https://localhost:8080/"
        },
        "id": "3BH64McpmNLo",
        "outputId": "cee5f63d-8bf6-4f64-e403-78c9a3b81587"
      },
      "source": [
        "tagged_words=[tup for sent in tagged_sentences for tup in sent]\r\n",
        "print(\"Total Number of Tagged words\", len(tagged_words))\r\n",
        "vocab=set([word for word,tag in tagged_words])\r\n",
        "print(\"Vocabulary of the Corpus\",len(vocab))\r\n",
        "tags=set([tag for word,tag in tagged_words])\r\n",
        "print(\"Number of Tags in the Corpus \",len(tags))"
      ],
      "execution_count": 43,
      "outputs": [
        {
          "output_type": "stream",
          "text": [
            "Total Number of Tagged words 100676\n",
            "Vocabulary of the Corpus 12408\n",
            "Number of Tags in the Corpus  46\n"
          ],
          "name": "stdout"
        }
      ]
    },
    {
      "cell_type": "code",
      "metadata": {
        "colab": {
          "base_uri": "https://localhost:8080/"
        },
        "id": "SPuJq7w7myPT",
        "outputId": "215d0269-228a-4a7f-8926-703fafd201e9"
      },
      "source": [
        "print(tags)"
      ],
      "execution_count": 44,
      "outputs": [
        {
          "output_type": "stream",
          "text": [
            "{'-RRB-', 'VBN', 'JJ', 'WP', 'SYM', 'RBS', 'PRP', 'PDT', '#', 'JJS', '``', 'RBR', ',', 'VB', 'VBP', 'IN', 'MD', 'VBD', \"''\", 'NNP', '$', 'NN', 'EX', 'NNPS', 'WRB', 'PRP$', 'CD', 'WDT', 'VBZ', 'LS', 'VBG', 'NNS', '-LRB-', 'FW', 'JJR', ':', 'UH', 'DT', 'RB', 'WP$', 'CC', 'TO', 'POS', '-NONE-', '.', 'RP'}\n"
          ],
          "name": "stdout"
        }
      ]
    },
    {
      "cell_type": "code",
      "metadata": {
        "colab": {
          "base_uri": "https://localhost:8080/"
        },
        "id": "MbficQ0FGKCI",
        "outputId": "2c29eea3-778c-4a0e-d9e8-5db38ee2faac"
      },
      "source": [
        "train_set, test_set = train_test_split(tagged_sentences,test_size=0.2,random_state=1234)\r\n",
        "print(\"Number of Sentences in Training Data \",len(train_set))\r\n",
        "print(\"Number of Sentences in Testing Data \",len(test_set))"
      ],
      "execution_count": 45,
      "outputs": [
        {
          "output_type": "stream",
          "text": [
            "Number of Sentences in Training Data  3131\n",
            "Number of Sentences in Testing Data  783\n"
          ],
          "name": "stdout"
        }
      ]
    },
    {
      "cell_type": "markdown",
      "metadata": {
        "id": "JVvlNIQUicaH"
      },
      "source": [
        "# Khởi tạo Dictionary để trích xuất đặc trưng"
      ]
    },
    {
      "cell_type": "code",
      "metadata": {
        "id": "7Ldk-3fPDBig"
      },
      "source": [
        "def features(sentence,index):\r\n",
        "    ### sentence is of the form [w1,w2,w3,..], index is the position of the word in the sentence\r\n",
        "    return {\r\n",
        "        'is_first_capital':int(sentence[index][0].isupper()),\r\n",
        "        'is_first_word': int(index==0),\r\n",
        "        'is_last_word':int(index==len(sentence)-1),\r\n",
        "        'is_complete_capital': int(sentence[index].upper()==sentence[index]),\r\n",
        "        'prev_word':'' if index==0 else sentence[index-1],\r\n",
        "        'next_word':'' if index==len(sentence)-1 else sentence[index+1],\r\n",
        "        'is_numeric':int(sentence[index].isdigit()),\r\n",
        "        'is_alphanumeric': int(bool((re.match('^(?=.*[0-9]$)(?=.*[a-zA-Z])',sentence[index])))),\r\n",
        "        'prefix_1':sentence[index][0],\r\n",
        "        'prefix_2': sentence[index][:2],\r\n",
        "        'prefix_3':sentence[index][:3],\r\n",
        "        'prefix_4':sentence[index][:4],\r\n",
        "        'suffix_1':sentence[index][-1],\r\n",
        "        'suffix_2':sentence[index][-2:],\r\n",
        "        'suffix_3':sentence[index][-3:],\r\n",
        "        'suffix_4':sentence[index][-4:],\r\n",
        "        'word_has_hyphen': 1 if '-' in sentence[index] else 0,\r\n",
        "        'capitals_inside': 1 if sentence[index][1:].lower() != sentence[index][1:] else 0,\r\n",
        "         }\r\n",
        "def untag(sentence):\r\n",
        "    return [word for word,tag in sentence]\r\n",
        " \r\n",
        " \r\n",
        "def prepareData(tagged_sentences):\r\n",
        "    X,y=[],[]\r\n",
        "    for sentences in tagged_sentences:\r\n",
        "        X.append([features(untag(sentences), index) for index in range(len(sentences))])\r\n",
        "        y.append([tag for word,tag in sentences])\r\n",
        "    return X,y\r\n",
        "X_train,y_train=prepareData(train_set)\r\n",
        "X_test,y_test=prepareData(test_set)"
      ],
      "execution_count": 46,
      "outputs": []
    },
    {
      "cell_type": "markdown",
      "metadata": {
        "id": "3_N0DIDLjFVv"
      },
      "source": [
        "# Xây dựng mô hình CRFs\r\n"
      ]
    },
    {
      "cell_type": "code",
      "metadata": {
        "colab": {
          "base_uri": "https://localhost:8080/"
        },
        "id": "YAM82Ql_jE_D",
        "outputId": "fa04d86a-8eb2-4034-b6af-6c0fab2e808e"
      },
      "source": [
        "crf = CRF(\r\n",
        "    algorithm='lbfgs',\r\n",
        "    c1=0.01,\r\n",
        "    c2=0.1,\r\n",
        "    max_iterations=100,\r\n",
        "    all_possible_transitions=True\r\n",
        ")\r\n",
        "crf.fit(X_train, y_train)"
      ],
      "execution_count": 47,
      "outputs": [
        {
          "output_type": "stream",
          "text": [
            "/usr/local/lib/python3.6/dist-packages/sklearn/base.py:197: FutureWarning: From version 0.24, get_params will raise an AttributeError if a parameter cannot be retrieved as an instance attribute. Previously it would return None.\n",
            "  FutureWarning)\n"
          ],
          "name": "stderr"
        },
        {
          "output_type": "execute_result",
          "data": {
            "text/plain": [
              "CRF(algorithm='lbfgs', all_possible_states=None, all_possible_transitions=True,\n",
              "    averaging=None, c=None, c1=0.01, c2=0.1, calibration_candidates=None,\n",
              "    calibration_eta=None, calibration_max_trials=None, calibration_rate=None,\n",
              "    calibration_samples=None, delta=None, epsilon=None, error_sensitive=None,\n",
              "    gamma=None, keep_tempfiles=None, linesearch=None, max_iterations=100,\n",
              "    max_linesearch=None, min_freq=None, model_filename=None, num_memories=None,\n",
              "    pa_type=None, period=None, trainer_cls=None, variance=None, verbose=False)"
            ]
          },
          "metadata": {
            "tags": []
          },
          "execution_count": 47
        }
      ]
    },
    {
      "cell_type": "markdown",
      "metadata": {
        "id": "OkmfYu8wj14V"
      },
      "source": [
        "# Đánh giá mô hình Conditional Random Fields"
      ]
    },
    {
      "cell_type": "code",
      "metadata": {
        "colab": {
          "base_uri": "https://localhost:8080/"
        },
        "id": "bl9ijN43HQvU",
        "outputId": "59b69ff5-7518-4749-b7e0-9ccd6249a276"
      },
      "source": [
        "y_pred=crf.predict(X_test)\r\n",
        "print(\"F1 score on Test Data \")\r\n",
        "print(metrics.flat_f1_score(y_test, y_pred,average='weighted',labels=crf.classes_))\r\n",
        "print(\"F score on Training Data \")\r\n",
        "y_pred_train=crf.predict(X_train)\r\n",
        "metrics.flat_f1_score(y_train, y_pred_train,average='weighted',labels=crf.classes_)\r\n",
        " \r\n",
        "### Look at class wise score\r\n",
        "print(metrics.flat_classification_report(\r\n",
        "    y_test, y_pred, labels=crf.classes_, digits=3\r\n",
        "))\r\n"
      ],
      "execution_count": 48,
      "outputs": [
        {
          "output_type": "stream",
          "text": [
            "F1 score on Test Data \n",
            "0.9655175201023506\n",
            "F score on Training Data \n"
          ],
          "name": "stdout"
        },
        {
          "output_type": "stream",
          "text": [
            "/usr/local/lib/python3.6/dist-packages/sklearn/metrics/_classification.py:1515: UndefinedMetricWarning: F-score is ill-defined and being set to 0.0 in labels with no true nor predicted samples. Use `zero_division` parameter to control this behavior.\n",
            "  average, \"true nor predicted\", 'F-score is', len(true_sum)\n"
          ],
          "name": "stderr"
        },
        {
          "output_type": "stream",
          "text": [
            "              precision    recall  f1-score   support\n",
            "\n",
            "          IN      0.979     0.983     0.981      1869\n",
            "         NNP      0.961     0.986     0.973      1824\n",
            "         NNS      0.965     0.982     0.973      1194\n",
            "          CC      0.994     0.994     0.994       480\n",
            "         VBP      0.898     0.869     0.883       283\n",
            "          JJ      0.907     0.889     0.898      1147\n",
            "          NN      0.947     0.948     0.948      2536\n",
            "           ,      0.999     1.000     0.999       993\n",
            "      -NONE-      1.000     1.000     1.000      1274\n",
            "         VBG      0.920     0.926     0.923       285\n",
            "          CD      0.993     0.993     0.993       671\n",
            "          DT      0.992     0.994     0.993      1596\n",
            "          RB      0.946     0.926     0.936       513\n",
            "         WRB      1.000     1.000     1.000        40\n",
            "         PRP      0.992     0.995     0.993       364\n",
            "           .      1.000     1.000     1.000       777\n",
            "         VBD      0.923     0.936     0.929       563\n",
            "         VBN      0.899     0.916     0.907       439\n",
            "         POS      0.993     1.000     0.997       150\n",
            "         WDT      0.974     0.949     0.961        78\n",
            "          MD      0.995     0.990     0.992       193\n",
            "          VB      0.949     0.912     0.931       514\n",
            "          RP      0.743     0.722     0.732        36\n",
            "          ``      1.000     1.000     1.000       144\n",
            "          TO      1.000     0.998     0.999       428\n",
            "          ''      1.000     1.000     1.000       136\n",
            "         VBZ      0.965     0.942     0.953       445\n",
            "           :      1.000     1.000     1.000       108\n",
            "          EX      0.938     1.000     0.968        15\n",
            "        PRP$      0.993     0.986     0.990       148\n",
            "        NNPS      0.667     0.538     0.596        52\n",
            "          WP      1.000     1.000     1.000        46\n",
            "           $      1.000     1.000     1.000       144\n",
            "         JJR      0.867     0.847     0.857        85\n",
            "       -LRB-      1.000     1.000     1.000        26\n",
            "       -RRB-      1.000     1.000     1.000        26\n",
            "         RBS      0.857     0.857     0.857         7\n",
            "           #      0.000     0.000     0.000         0\n",
            "         JJS      0.976     0.952     0.964        42\n",
            "         PDT      0.800     0.667     0.727         6\n",
            "         RBR      0.700     0.560     0.622        25\n",
            "         WP$      1.000     1.000     1.000         4\n",
            "          LS      0.000     0.000     0.000         3\n",
            "          FW      0.000     0.000     0.000         0\n",
            "          UH      0.000     0.000     0.000         1\n",
            "         SYM      0.000     0.000     0.000         0\n",
            "\n",
            "   micro avg      0.966     0.966     0.966     19710\n",
            "   macro avg      0.842     0.832     0.836     19710\n",
            "weighted avg      0.965     0.966     0.966     19710\n",
            "\n"
          ],
          "name": "stdout"
        },
        {
          "output_type": "stream",
          "text": [
            "/usr/local/lib/python3.6/dist-packages/sklearn/metrics/_classification.py:1272: UndefinedMetricWarning: Precision and F-score are ill-defined and being set to 0.0 in labels with no predicted samples. Use `zero_division` parameter to control this behavior.\n",
            "  _warn_prf(average, modifier, msg_start, len(result))\n",
            "/usr/local/lib/python3.6/dist-packages/sklearn/metrics/_classification.py:1272: UndefinedMetricWarning: Recall and F-score are ill-defined and being set to 0.0 in labels with no true samples. Use `zero_division` parameter to control this behavior.\n",
            "  _warn_prf(average, modifier, msg_start, len(result))\n"
          ],
          "name": "stderr"
        }
      ]
    },
    {
      "cell_type": "markdown",
      "metadata": {
        "id": "tf1DDQpxki7Z"
      },
      "source": [
        "# Đưa ra dự đoán cho tập Test set"
      ]
    },
    {
      "cell_type": "code",
      "metadata": {
        "id": "KtiE6qgKJKmk"
      },
      "source": [
        "def pos_tag(sentence):\r\n",
        "    sentence_features = [features(sentence, index) for index in range(len(sentence))]\r\n",
        "    return list(zip(sentence, crf.predict([sentence_features])[0]))"
      ],
      "execution_count": 49,
      "outputs": []
    },
    {
      "cell_type": "code",
      "metadata": {
        "id": "IBT4EnT-Hqy6"
      },
      "source": [
        "pos_pred = []  # list chứa kết quả dự đoán bằng model CRFs\r\n",
        "for i in raw2:\r\n",
        "  i = i.strip()\r\n",
        "  sentence = i.split(\" \")\r\n",
        "  ans = pos_tag(sentence)\r\n",
        "  pos_pred.append(ans)"
      ],
      "execution_count": 50,
      "outputs": []
    },
    {
      "cell_type": "code",
      "metadata": {
        "id": "Nytr_vQTJQlA"
      },
      "source": [
        "pos = []        # list chứa kết quả dự đoán bằng thư viện nltk\r\n",
        "for i in raw2:\r\n",
        "  i = i.strip()\r\n",
        "  sentence = i.split(\" \")\r\n",
        "  ans = nltk.pos_tag(sentence) \r\n",
        "  pos.append(ans)"
      ],
      "execution_count": 51,
      "outputs": []
    },
    {
      "cell_type": "code",
      "metadata": {
        "id": "3eFL7zZ6JsE3"
      },
      "source": [
        "count =[]  # kiểm tra sự khác nhau giữa 2 kế quả\r\n",
        "for i in range(len(pos)):\r\n",
        "  for y in range(len(pos[i])):\r\n",
        "    if pos[i][y] != pos_pred[i][y]:\r\n",
        "      count.append([pos[i][y], pos_pred[i][y]])\r\n",
        "      "
      ],
      "execution_count": 52,
      "outputs": []
    },
    {
      "cell_type": "code",
      "metadata": {
        "id": "D8g4KwGH4Cox",
        "colab": {
          "base_uri": "https://localhost:8080/"
        },
        "outputId": "a18c906e-1e0c-467b-9d3d-f49754d72861"
      },
      "source": [
        "len(count)"
      ],
      "execution_count": 53,
      "outputs": [
        {
          "output_type": "execute_result",
          "data": {
            "text/plain": [
              "67"
            ]
          },
          "metadata": {
            "tags": []
          },
          "execution_count": 53
        }
      ]
    },
    {
      "cell_type": "code",
      "metadata": {
        "id": "7DXUicS_0ICd"
      },
      "source": [
        "a = raw2[2]  # in ra sự khác biệt giữa 2 câu\r\n",
        "a= a.strip()\r\n",
        "a= a.split(\" \")\r\n",
        "ans1 = pos_tag(a)\r\n",
        "ans2 = nltk.pos_tag(a)"
      ],
      "execution_count": 54,
      "outputs": []
    },
    {
      "cell_type": "code",
      "metadata": {
        "colab": {
          "base_uri": "https://localhost:8080/"
        },
        "id": "bMpTJpTr4Mvc",
        "outputId": "2e919d05-2a8c-40c6-f17f-381a59659e94"
      },
      "source": [
        "print(ans1,'\\n',ans2)"
      ],
      "execution_count": 55,
      "outputs": [
        {
          "output_type": "stream",
          "text": [
            "[('The', 'DT'), ('way', 'NN'), ('they', 'PRP'), ('swarm', 'VBP'), ('or', 'CC'), ('flock', 'NN'), ('together', 'NN'), ('does', 'VBZ'), ('not', 'RB'), ('usually', 'RB'), ('get', 'VB'), ('good', 'JJ'), ('press', 'NN'), ('coverage', 'NN'), ('either:', 'CC'), ('marching', 'VBG'), ('like', 'IN'), ('worker', 'NN'), ('ants', 'NNS'), ('might', 'MD'), ('be', 'VB'), ('a', 'DT'), ('common', 'JJ'), ('simile', 'NN'), ('for', 'IN'), ('city', 'NN'), ('commuters', 'NNS'), (',', ','), ('but', 'CC'), (\"it's\", 'VBZ'), ('a', 'DT'), ('damning', 'NN'), (',', ','), ('not', 'RB'), ('positive', 'JJ'), (',', ','), ('image', 'NN')] \n",
            " [('The', 'DT'), ('way', 'NN'), ('they', 'PRP'), ('swarm', 'VBP'), ('or', 'CC'), ('flock', 'VBP'), ('together', 'RB'), ('does', 'VBZ'), ('not', 'RB'), ('usually', 'RB'), ('get', 'VB'), ('good', 'JJ'), ('press', 'NN'), ('coverage', 'NN'), ('either:', 'VBD'), ('marching', 'VBG'), ('like', 'IN'), ('worker', 'NN'), ('ants', 'NNS'), ('might', 'MD'), ('be', 'VB'), ('a', 'DT'), ('common', 'JJ'), ('simile', 'NN'), ('for', 'IN'), ('city', 'NN'), ('commuters', 'NNS'), (',', ','), ('but', 'CC'), (\"it's\", 'VBZ'), ('a', 'DT'), ('damning', 'NN'), (',', ','), ('not', 'RB'), ('positive', 'JJ'), (',', ','), ('image', 'NN')]\n"
          ],
          "name": "stdout"
        }
      ]
    },
    {
      "cell_type": "markdown",
      "metadata": {
        "id": "TcQpErvfr39x"
      },
      "source": [
        "# Predict một câu bất kì và so sánh kết quả với thư viện nltk"
      ]
    },
    {
      "cell_type": "code",
      "metadata": {
        "id": "k3RvRTKF4eC1",
        "colab": {
          "base_uri": "https://localhost:8080/"
        },
        "outputId": "5a86b774-bad6-4617-8990-4b4614b61869"
      },
      "source": [
        "kq = \"Quartz is your ally and resource in developing better ways of doing business.\"\r\n",
        "kq = re.sub('([.,!?()])', r' \\1 ', kq)\r\n",
        "kq = re.sub('\\s{2,}', ' ', kq)\r\n",
        "print(pos_tag(kq.split(\" \")))\r\n",
        "print(nltk.pos_tag(kq.split(\" \")))"
      ],
      "execution_count": 64,
      "outputs": [
        {
          "output_type": "stream",
          "text": [
            "[('Quartz', 'NNP'), ('is', 'VBZ'), ('your', 'PRP$'), ('ally', 'RB'), ('and', 'CC'), ('resource', 'NN'), ('in', 'IN'), ('developing', 'VBG'), ('better', 'JJR'), ('ways', 'NNS'), ('of', 'IN'), ('doing', 'VBG'), ('business.', 'NN')]\n",
            "[('Quartz', 'NNP'), ('is', 'VBZ'), ('your', 'PRP$'), ('ally', 'NN'), ('and', 'CC'), ('resource', 'NN'), ('in', 'IN'), ('developing', 'VBG'), ('better', 'JJR'), ('ways', 'NNS'), ('of', 'IN'), ('doing', 'VBG'), ('business.', 'NN')]\n"
          ],
          "name": "stdout"
        }
      ]
    },
    {
      "cell_type": "code",
      "metadata": {
        "id": "BughFy2Xn-yu"
      },
      "source": [
        ""
      ],
      "execution_count": null,
      "outputs": []
    }
  ]
}