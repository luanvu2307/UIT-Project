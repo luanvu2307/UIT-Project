{
  "nbformat": 4,
  "nbformat_minor": 0,
  "metadata": {
    "colab": {
      "name": "Round3.ipynb",
      "provenance": [],
      "collapsed_sections": [],
      "authorship_tag": "ABX9TyNALrqU2osvxAiOGVktPz5P",
      "include_colab_link": true
    },
    "kernelspec": {
      "name": "python3",
      "display_name": "Python 3"
    }
  },
  "cells": [
    {
      "cell_type": "markdown",
      "metadata": {
        "id": "view-in-github",
        "colab_type": "text"
      },
      "source": [
        "<a href=\"https://colab.research.google.com/github/snfruby/CS114.K21/blob/master/Round3.ipynb\" target=\"_parent\"><img src=\"https://colab.research.google.com/assets/colab-badge.svg\" alt=\"Open In Colab\"/></a>"
      ]
    },
    {
      "cell_type": "code",
      "metadata": {
        "id": "UctOhgEvDSXL",
        "colab_type": "code",
        "colab": {}
      },
      "source": [
        "from google.colab import files\n",
        "import pandas as pd\n",
        "import numpy as np"
      ],
      "execution_count": 0,
      "outputs": []
    },
    {
      "cell_type": "code",
      "metadata": {
        "id": "NelAOBBcD_fE",
        "colab_type": "code",
        "outputId": "489c5334-cd4b-4baa-878b-40dbcebabad3",
        "colab": {
          "base_uri": "https://localhost:8080/",
          "height": 136
        }
      },
      "source": [
        "data = pd.read_csv('http://cs.uit.edu.vn/data2.txt', names = ['size', 'time'])\n",
        "print(data.head())\n",
        "data.shape"
      ],
      "execution_count": 2,
      "outputs": [
        {
          "output_type": "stream",
          "text": [
            "      size      time\n",
            "0  6083695  0.521842\n",
            "1  1954367  0.152648\n",
            "2  3734185  0.298548\n",
            "3  5839301  0.460480\n",
            "4  6343427  0.527977\n"
          ],
          "name": "stdout"
        },
        {
          "output_type": "execute_result",
          "data": {
            "text/plain": [
              "(71115, 2)"
            ]
          },
          "metadata": {
            "tags": []
          },
          "execution_count": 2
        }
      ]
    },
    {
      "cell_type": "markdown",
      "metadata": {
        "id": "Y6WOhgCT4WAI",
        "colab_type": "text"
      },
      "source": [
        "Lấy dữ liệu xuống bằng cách import thư viện pandas để đọc data dạng URL\n"
      ]
    },
    {
      "cell_type": "code",
      "metadata": {
        "id": "lrTL19xK9A99",
        "colab_type": "code",
        "outputId": "33969ac1-bbdf-49e8-dbaa-2c212061b86b",
        "colab": {
          "base_uri": "https://localhost:8080/",
          "height": 34
        }
      },
      "source": [
        "from sklearn.model_selection import train_test_split\n",
        "X=data['size']\n",
        "y=data['time']\n",
        "X_train, X_valid, y_train, y_valid = train_test_split(X, y, test_size=0.2, random_state=1)\n",
        "X_train = X_train.values.reshape(-1,1)\n",
        "X_valid = X_valid.values.reshape(-1,1)\n",
        "y_train = y_train.values.reshape(-1,1)\n",
        "y_valid = y_valid.values.reshape(-1,1)\n",
        "print(X_train.shape, y_train.shape)"
      ],
      "execution_count": 3,
      "outputs": [
        {
          "output_type": "stream",
          "text": [
            "(56892, 1) (56892, 1)\n"
          ],
          "name": "stdout"
        }
      ]
    },
    {
      "cell_type": "markdown",
      "metadata": {
        "id": "m0jOMixh4i-L",
        "colab_type": "text"
      },
      "source": [
        "Đưa cột 'size' làm feature , cột 'time' làm label\n",
        "\n",
        "phân chia dữ liệu train và valid với tỉ lệ 8/2\n",
        "\n",
        "Reshape lại dữ liệu vì lúc này feature ở dạng array 1 chiều , mà Train test split chỉ chấp nhận dữ liệu 2 chiều."
      ]
    },
    {
      "cell_type": "code",
      "metadata": {
        "id": "ZL9UpF94I7sh",
        "colab_type": "code",
        "outputId": "c5c61971-72de-4256-e37b-4c965ed523a0",
        "colab": {
          "base_uri": "https://localhost:8080/",
          "height": 34
        }
      },
      "source": [
        "from sklearn.metrics import mean_absolute_error\n",
        "from sklearn.linear_model import LinearRegression\n",
        "model=LinearRegression()\n",
        "model.fit(X_train, y_train)\n",
        "val_pre = model.predict(X_valid)\n",
        "val_mae = mean_absolute_error(val_pre, y_valid)\n",
        "print(\"Mean absolute error:\", val_mae)"
      ],
      "execution_count": 4,
      "outputs": [
        {
          "output_type": "stream",
          "text": [
            "Mean absolute error: 0.00831551754510758\n"
          ],
          "name": "stdout"
        }
      ]
    },
    {
      "cell_type": "markdown",
      "metadata": {
        "id": "zvctoR-_4njk",
        "colab_type": "text"
      },
      "source": [
        "Khảo sát với thuật toán Linear regression và kiểm tra model bằng sai số tuyệt đối ( mean absolute error )"
      ]
    },
    {
      "cell_type": "code",
      "metadata": {
        "id": "Xkc-D-nG328P",
        "colab_type": "code",
        "outputId": "d1ad8c20-b950-4fb2-e7a2-c0aebd6366a5",
        "colab": {
          "base_uri": "https://localhost:8080/",
          "height": 51
        }
      },
      "source": [
        "LR_model = LinearRegression()\n",
        "LR_model.fit(X_train , y_train)\n",
        "val_pred_1 = LR_model.predict(X_valid)\n",
        "print (mean_absolute_error(val_pred_1 , y_valid))\n",
        "new_data = {'input size':[5839301] }\n",
        "data_convert_2=pd.DataFrame.from_dict(new_data) \n",
        "print (LR_model.predict(data_convert_2))"
      ],
      "execution_count": 5,
      "outputs": [
        {
          "output_type": "stream",
          "text": [
            "0.00831551754510758\n",
            "[[0.47783484]]\n"
          ],
          "name": "stdout"
        }
      ]
    },
    {
      "cell_type": "markdown",
      "metadata": {
        "id": "DD1aRFUB4z2E",
        "colab_type": "text"
      },
      "source": [
        "Tạo 1 biến dữ liệu mới đưa vào model để train và thực hiện dự đoán\n",
        "Khả năng dự đoán của model là tốt bởi vì khi đưa 1 dữ liệu trong tập train vào dự đoán thì kết quả xấp xỉ gần như bằng với kết quả của dataset."
      ]
    },
    {
      "cell_type": "code",
      "metadata": {
        "id": "uvOUI6Hv7Php",
        "colab_type": "code",
        "colab": {
          "base_uri": "https://localhost:8080/",
          "height": 204
        },
        "outputId": "4c51acf1-fd21-451a-a39e-f0c6cc648374"
      },
      "source": [
        "data2 = pd.read_csv('http://cs.uit.edu.vn/data3.txt', names = ['size', 'time'])\n",
        "data2.head()"
      ],
      "execution_count": 13,
      "outputs": [
        {
          "output_type": "execute_result",
          "data": {
            "text/html": [
              "<div>\n",
              "<style scoped>\n",
              "    .dataframe tbody tr th:only-of-type {\n",
              "        vertical-align: middle;\n",
              "    }\n",
              "\n",
              "    .dataframe tbody tr th {\n",
              "        vertical-align: top;\n",
              "    }\n",
              "\n",
              "    .dataframe thead th {\n",
              "        text-align: right;\n",
              "    }\n",
              "</style>\n",
              "<table border=\"1\" class=\"dataframe\">\n",
              "  <thead>\n",
              "    <tr style=\"text-align: right;\">\n",
              "      <th></th>\n",
              "      <th>size</th>\n",
              "      <th>time</th>\n",
              "    </tr>\n",
              "  </thead>\n",
              "  <tbody>\n",
              "    <tr>\n",
              "      <th>0</th>\n",
              "      <td>37837612</td>\n",
              "      <td>4.12166</td>\n",
              "    </tr>\n",
              "    <tr>\n",
              "      <th>1</th>\n",
              "      <td>37395246</td>\n",
              "      <td>3.92089</td>\n",
              "    </tr>\n",
              "    <tr>\n",
              "      <th>2</th>\n",
              "      <td>36610827</td>\n",
              "      <td>3.21540</td>\n",
              "    </tr>\n",
              "    <tr>\n",
              "      <th>3</th>\n",
              "      <td>29555651</td>\n",
              "      <td>2.54506</td>\n",
              "    </tr>\n",
              "    <tr>\n",
              "      <th>4</th>\n",
              "      <td>25928216</td>\n",
              "      <td>2.21831</td>\n",
              "    </tr>\n",
              "  </tbody>\n",
              "</table>\n",
              "</div>"
            ],
            "text/plain": [
              "       size     time\n",
              "0  37837612  4.12166\n",
              "1  37395246  3.92089\n",
              "2  36610827  3.21540\n",
              "3  29555651  2.54506\n",
              "4  25928216  2.21831"
            ]
          },
          "metadata": {
            "tags": []
          },
          "execution_count": 13
        }
      ]
    },
    {
      "cell_type": "code",
      "metadata": {
        "id": "c1wJr8Ac7Z6R",
        "colab_type": "code",
        "colab": {}
      },
      "source": [
        "from sklearn.model_selection import train_test_split\n",
        "X_valid_2 = data2['size']\n",
        "y_valid_2 = data2['time']\n",
        "X_valid_2 = X_valid_2.values.reshape(-1,1)\n",
        "y_valid_2 = y_valid_2.values.reshape(-1,1)"
      ],
      "execution_count": 0,
      "outputs": []
    },
    {
      "cell_type": "code",
      "metadata": {
        "id": "tilFl1XB7hcw",
        "colab_type": "code",
        "colab": {
          "base_uri": "https://localhost:8080/",
          "height": 34
        },
        "outputId": "c4025fec-8b82-4d8e-91b5-77ddcf4f80c0"
      },
      "source": [
        "val_pre = model.predict(X_valid_2)\n",
        "val_mae = mean_absolute_error(val_pre, y_valid_2)\n",
        "print(\"Mean absolute error:\", val_mae)"
      ],
      "execution_count": 17,
      "outputs": [
        {
          "output_type": "stream",
          "text": [
            "Mean absolute error: 0.12275577157511128\n"
          ],
          "name": "stdout"
        }
      ]
    },
    {
      "cell_type": "markdown",
      "metadata": {
        "id": "h6dDZHmZ76jl",
        "colab_type": "text"
      },
      "source": [
        "Kết quả tệ hơn. Trường hợp xấu nhất là bị overfitting"
      ]
    },
    {
      "cell_type": "code",
      "metadata": {
        "id": "w2ZsZE-S8BAR",
        "colab_type": "code",
        "colab": {
          "base_uri": "https://localhost:8080/",
          "height": 204
        },
        "outputId": "51d95578-7fb6-4911-b489-63fdecc5b79c"
      },
      "source": [
        "data2['size^2'] = data2['size'] * data2['size']\n",
        "data2['size*log(size)'] = data2['size'] * np.log10(data2['size'])\n",
        "columns_title = ['size', 'size^2', 'size*log(size)', 'time']\n",
        "data2 = data2.reindex(columns = columns_title)\n",
        "data2.head()"
      ],
      "execution_count": 18,
      "outputs": [
        {
          "output_type": "execute_result",
          "data": {
            "text/html": [
              "<div>\n",
              "<style scoped>\n",
              "    .dataframe tbody tr th:only-of-type {\n",
              "        vertical-align: middle;\n",
              "    }\n",
              "\n",
              "    .dataframe tbody tr th {\n",
              "        vertical-align: top;\n",
              "    }\n",
              "\n",
              "    .dataframe thead th {\n",
              "        text-align: right;\n",
              "    }\n",
              "</style>\n",
              "<table border=\"1\" class=\"dataframe\">\n",
              "  <thead>\n",
              "    <tr style=\"text-align: right;\">\n",
              "      <th></th>\n",
              "      <th>size</th>\n",
              "      <th>size^2</th>\n",
              "      <th>size*log(size)</th>\n",
              "      <th>time</th>\n",
              "    </tr>\n",
              "  </thead>\n",
              "  <tbody>\n",
              "    <tr>\n",
              "      <th>0</th>\n",
              "      <td>37837612</td>\n",
              "      <td>1431684881862544</td>\n",
              "      <td>2.867305e+08</td>\n",
              "      <td>4.12166</td>\n",
              "    </tr>\n",
              "    <tr>\n",
              "      <th>1</th>\n",
              "      <td>37395246</td>\n",
              "      <td>1398404423400516</td>\n",
              "      <td>2.831873e+08</td>\n",
              "      <td>3.92089</td>\n",
              "    </tr>\n",
              "    <tr>\n",
              "      <th>2</th>\n",
              "      <td>36610827</td>\n",
              "      <td>1340352653623929</td>\n",
              "      <td>2.769100e+08</td>\n",
              "      <td>3.21540</td>\n",
              "    </tr>\n",
              "    <tr>\n",
              "      <th>3</th>\n",
              "      <td>29555651</td>\n",
              "      <td>873536506033801</td>\n",
              "      <td>2.207996e+08</td>\n",
              "      <td>2.54506</td>\n",
              "    </tr>\n",
              "    <tr>\n",
              "      <th>4</th>\n",
              "      <td>25928216</td>\n",
              "      <td>672272384942656</td>\n",
              "      <td>1.922259e+08</td>\n",
              "      <td>2.21831</td>\n",
              "    </tr>\n",
              "  </tbody>\n",
              "</table>\n",
              "</div>"
            ],
            "text/plain": [
              "       size            size^2  size*log(size)     time\n",
              "0  37837612  1431684881862544    2.867305e+08  4.12166\n",
              "1  37395246  1398404423400516    2.831873e+08  3.92089\n",
              "2  36610827  1340352653623929    2.769100e+08  3.21540\n",
              "3  29555651   873536506033801    2.207996e+08  2.54506\n",
              "4  25928216   672272384942656    1.922259e+08  2.21831"
            ]
          },
          "metadata": {
            "tags": []
          },
          "execution_count": 18
        }
      ]
    },
    {
      "cell_type": "code",
      "metadata": {
        "id": "uZ_kkBHZ8YbH",
        "colab_type": "code",
        "colab": {}
      },
      "source": [
        "from sklearn.model_selection import train_test_split\n",
        "array = data.values\n",
        "X = array[:,0:3]\n",
        "y = array[:,3]\n",
        "X_train, X_valid, y_train, y_valid = train_test_split(X, y, test_size=0.2, random_state=1)"
      ],
      "execution_count": 0,
      "outputs": []
    },
    {
      "cell_type": "code",
      "metadata": {
        "id": "jmZtJxas8dKb",
        "colab_type": "code",
        "colab": {
          "base_uri": "https://localhost:8080/",
          "height": 85
        },
        "outputId": "1fede234-8d98-4189-d3f3-554d2d8f57df"
      },
      "source": [
        "from sklearn.tree import DecisionTreeRegressor\n",
        "from sklearn.ensemble import RandomForestRegressor\n",
        "from sklearn.linear_model import LinearRegression\n",
        "from sklearn.metrics import mean_absolute_error\n",
        "from sklearn.neighbors import KNeighborsRegressor\n",
        "models =[]\n",
        "models.append(('DTR', DecisionTreeRegressor()))\n",
        "models.append(('RFR', RandomForestRegressor()))\n",
        "models.append(('LR', LinearRegression()))\n",
        "models.append(('KNR', KNeighborsRegressor()))\n",
        "\n",
        "r={}\n",
        "for name, model in models:\n",
        "  model.fit(X_train, y_train)\n",
        "  val_pre = model.predict(X_valid)\n",
        "  val_mae = mean_absolute_error(val_pre, y_valid)\n",
        "  r[name]=val_mae\n",
        "  print(name,\":\",val_mae)"
      ],
      "execution_count": 20,
      "outputs": [
        {
          "output_type": "stream",
          "text": [
            "DTR : 0.05845102533836954\n",
            "RFR : 0.05115056055365991\n",
            "LR : 0.04301142916048239\n",
            "KNR : 0.04691199433427762\n"
          ],
          "name": "stdout"
        }
      ]
    },
    {
      "cell_type": "code",
      "metadata": {
        "id": "zZ0KnH7P8s9E",
        "colab_type": "code",
        "colab": {
          "base_uri": "https://localhost:8080/",
          "height": 265
        },
        "outputId": "6486b79a-f75f-47e9-fed0-be07d61398b1"
      },
      "source": [
        "from matplotlib import pyplot\n",
        "pyplot.bar(r.keys(), r.values(), width=0.5)\n",
        "pyplot.show()"
      ],
      "execution_count": 21,
      "outputs": [
        {
          "output_type": "display_data",
          "data": {
            "image/png": "[encoded data removed]",
            "text/plain": [
              "<Figure size 432x288 with 1 Axes>"
            ]
          },
          "metadata": {
            "tags": [],
            "needs_background": "light"
          }
        }
      ]
    },
    {
      "cell_type": "markdown",
      "metadata": {
        "id": "biZ8HLhB83bS",
        "colab_type": "text"
      },
      "source": [
        "Model mới có Performance tốt hơn model cũ ( 0.04 so với 0.12 ) \n",
        "Do sử dụng nhiều feature hơn nên trong đồ thị LinearRegression sẽ có nhiều điểm được tạo hơn. => dẫn đến độ hiệu quả cao hơn so với model trước chỉ dùng 1 feature."
      ]
    }
  ]
}