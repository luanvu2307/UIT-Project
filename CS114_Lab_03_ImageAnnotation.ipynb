{
  "nbformat": 4,
  "nbformat_minor": 0,
  "metadata": {
    "colab": {
      "name": "CS114.Lab-03.\bImageAnnotation.ipynb",
      "provenance": [],
      "toc_visible": true,
      "include_colab_link": true
    },
    "kernelspec": {
      "name": "python3",
      "display_name": "Python 3"
    },
    "accelerator": "GPU"
  },
  "cells": [
    {
      "cell_type": "markdown",
      "metadata": {
        "id": "view-in-github",
        "colab_type": "text"
      },
      "source": [
        "<a href=\"https://colab.research.google.com/github/snfruby/CS114.K21/blob/master/CS114_Lab_03_%08ImageAnnotation.ipynb\" target=\"_parent\"><img src=\"https://colab.research.google.com/assets/colab-badge.svg\" alt=\"Open In Colab\"/></a>"
      ]
    },
    {
      "cell_type": "markdown",
      "metadata": {
        "id": "t5jOCJ-oqEx4",
        "colab_type": "text"
      },
      "source": [
        "#CS114 - BÀI TẬP THỰC HÀNH LAB-03\n",
        "**@Lê Đình Duy**\n",
        "\n",
        "Đây là tài liệu hướng dẫn thực hành về phát triển ứng dụng phân loại ảnh (image classification), phát hiện khuôn mặt (face detection) và nhận dạng văn bản (OCR)\n",
        "\n",
        "\n"
      ]
    },
    {
      "cell_type": "markdown",
      "metadata": {
        "id": "5_PomwEFzI2E",
        "colab_type": "text"
      },
      "source": [
        "#Classify ImageNet classes with ResNet50\n",
        "\n",
        "Tham khảo:\n",
        "* https://keras.io/applications/\n",
        "* https://machinelearningmastery.com/how-to-load-convert-and-save-images-with-the-keras-api/\n",
        "* https://www.pyimagesearch.com/2016/08/10/imagenet-classification-with-python-and-keras/\n"
      ]
    },
    {
      "cell_type": "markdown",
      "metadata": {
        "id": "CasdaV8ltaj8",
        "colab_type": "text"
      },
      "source": [
        "**Ảnh input**\n",
        "\n",
        "![\bCat-Dog](https://www.kimballstock.com/pix/DOK/01/DOK_01_KH0001_01_P.JPG)"
      ]
    },
    {
      "cell_type": "code",
      "metadata": {
        "id": "xXjFyd7s92o4",
        "colab_type": "code",
        "colab": {}
      },
      "source": [
        "from google.colab.patches import cv2_imshow\n",
        "import cv2\n",
        "import os\n",
        "\n",
        "def download_view(img_url):\n",
        "  img_file = os.path.basename(img_url)\n",
        "  !curl -o $img_file $img_url\n",
        "  img = cv2.imread(img_file, cv2.IMREAD_UNCHANGED)\n",
        "  cv2_imshow(img)\n",
        "  return img_file"
      ],
      "execution_count": 0,
      "outputs": []
    },
    {
      "cell_type": "code",
      "metadata": {
        "id": "uVO6-xoo9t7V",
        "colab_type": "code",
        "colab": {}
      },
      "source": [
        "#@title Nhập URL\n",
        "\n",
        "img_url = \"https://www.kimballstock.com/pix/DOK/01/DOK_01_KH0001_01_P.JPG\" #@param {type:\"string\"}\n",
        "\n",
        "print(img_url)\n",
        "img_file = download_view(img_url)\n",
        "print(img_file)"
      ],
      "execution_count": 0,
      "outputs": []
    },
    {
      "cell_type": "code",
      "metadata": {
        "id": "PrNchL2qcvfx",
        "colab_type": "code",
        "colab": {}
      },
      "source": [
        "from keras.applications.resnet50 import ResNet50\n",
        "from keras.preprocessing import image\n",
        "from keras.applications.resnet50 import preprocess_input, decode_predictions\n",
        "import numpy as np\n",
        "\n",
        "model = ResNet50(weights='imagenet')\n",
        "\n",
        "img_path = img_file\n",
        "img = image.load_img(img_path, target_size=(224, 224))\n",
        "x = image.img_to_array(img)\n",
        "x = np.expand_dims(x, axis=0)\n",
        "x = preprocess_input(x)\n",
        "\n",
        "preds = model.predict(x)\n",
        "# decode the results into a list of tuples (class, description, probability)\n",
        "# (one such list for each sample in the batch)\n",
        "print('Predicted:', decode_predictions(preds, top=3)[0])\n"
      ],
      "execution_count": 0,
      "outputs": []
    },
    {
      "cell_type": "markdown",
      "metadata": {
        "id": "PN3hp6_DBh5A",
        "colab_type": "text"
      },
      "source": [
        "# OCR Using Tesseract"
      ]
    },
    {
      "cell_type": "markdown",
      "metadata": {
        "id": "gijnkbcSEAgf",
        "colab_type": "text"
      },
      "source": [
        "## Installation"
      ]
    },
    {
      "cell_type": "code",
      "metadata": {
        "id": "IG-uRpuYDztA",
        "colab_type": "code",
        "colab": {}
      },
      "source": [
        "!sudo apt install tesseract-ocr\n",
        "!pip install pytesseract \n",
        "#!pip install opencv-python\n"
      ],
      "execution_count": 0,
      "outputs": []
    },
    {
      "cell_type": "markdown",
      "metadata": {
        "id": "83ontksFEDxm",
        "colab_type": "text"
      },
      "source": [
        "## Import Libraries"
      ]
    },
    {
      "cell_type": "code",
      "metadata": {
        "id": "lRo-No4HEb4W",
        "colab_type": "code",
        "colab": {}
      },
      "source": [
        "import pytesseract\n",
        "import shutil\n",
        "import os\n",
        "import random\n",
        "from PIL import Image\n"
      ],
      "execution_count": 0,
      "outputs": []
    },
    {
      "cell_type": "markdown",
      "metadata": {
        "id": "OhhfVfFlEiYs",
        "colab_type": "text"
      },
      "source": [
        "## Upload file\n",
        "\n",
        "Tải về thử các ảnh sau:\n",
        "* https://cardy.vn/upload/images/the-tin-dung/Sacombank-Visa-classic.jpg\n",
        "* https://www.uit.edu.vn/sites/vi/files/banner.png\n",
        "* https://daythem.edu.vn/upload/hinhanh/bangcap/1456539636-WP-20160227-001.jpg"
      ]
    },
    {
      "cell_type": "code",
      "metadata": {
        "id": "6IINFnRoEjGx",
        "colab_type": "code",
        "colab": {}
      },
      "source": [
        "from google.colab import files\n",
        "uploaded = files.upload()"
      ],
      "execution_count": 0,
      "outputs": []
    },
    {
      "cell_type": "markdown",
      "metadata": {
        "id": "5WgR1v90QceH",
        "colab_type": "text"
      },
      "source": [
        "## Thực hiện nhận dạng "
      ]
    },
    {
      "cell_type": "code",
      "metadata": {
        "id": "sAsw_QBLQXYQ",
        "colab_type": "code",
        "colab": {}
      },
      "source": [
        "for fn in uploaded.keys():\n",
        "  print('User uploaded file \"{name}\" with length {length} bytes'.format(name=fn, length=len(uploaded[fn])))\n",
        "  image_path_in_colab = fn\n",
        "  img = cv2.imread(image_path_in_colab, cv2.IMREAD_UNCHANGED)\n",
        "  cv2_imshow(img)\n",
        "  extractedInformation = pytesseract.image_to_string(Image.open(image_path_in_colab))\n",
        "  print(extractedInformation)"
      ],
      "execution_count": 0,
      "outputs": []
    },
    {
      "cell_type": "markdown",
      "metadata": {
        "id": "x4xP-kzWNoar",
        "colab_type": "text"
      },
      "source": [
        "#Face Detection Using DLIB\n",
        "\n"
      ]
    },
    {
      "cell_type": "markdown",
      "metadata": {
        "id": "VC2uYWTAQk1G",
        "colab_type": "text"
      },
      "source": [
        "## Installation \n",
        "\n",
        "Lưu ý: chuyển Runtime Type sang GPU"
      ]
    },
    {
      "cell_type": "code",
      "metadata": {
        "id": "w3KXPHIvEtzF",
        "colab_type": "code",
        "colab": {}
      },
      "source": [
        "!pip install dlib\n",
        "!pip install face_recognition"
      ],
      "execution_count": 0,
      "outputs": []
    },
    {
      "cell_type": "markdown",
      "metadata": {
        "id": "YqhZJ2mDQv-W",
        "colab_type": "text"
      },
      "source": [
        "## Upload\n",
        "\n",
        "Thử với các ảnh sau:\n",
        "* https://cdnimg.vietnamplus.vn/t870/uploaded/fsmsr/2020_02_17/cac_nguoi_dep_hoa_hau_hoan_vu_viet_nam_1.jpg\n",
        "* https://www.uit.edu.vn/sites/vi/files/slider/banner_ts_sdh_20191_1.png"
      ]
    },
    {
      "cell_type": "code",
      "metadata": {
        "id": "HXKPEgBZNAIc",
        "colab_type": "code",
        "colab": {}
      },
      "source": [
        "from google.colab import files\n",
        "uploaded = files.upload()\n",
        "\n"
      ],
      "execution_count": 0,
      "outputs": []
    },
    {
      "cell_type": "markdown",
      "metadata": {
        "id": "YGLeoI5yQx8Q",
        "colab_type": "text"
      },
      "source": [
        "## Detect"
      ]
    },
    {
      "cell_type": "code",
      "metadata": {
        "id": "EfK0O3mDQR5U",
        "colab_type": "code",
        "colab": {}
      },
      "source": [
        "for fn in uploaded.keys():\n",
        "  print('User uploaded file \"{name}\" with length {length} bytes'.format(name=fn, length=len(uploaded[fn])))\n",
        "\n",
        "  image = face_recognition.load_image_file(fn)\n",
        "\n",
        "  plt.imshow(image)\n",
        "  plt.show()  \n",
        "  \n",
        "  face_locations = face_recognition.face_locations(image)\n",
        "\n",
        "  print(\"Found {} face(s) in this photograph.\".format(len(face_locations)))\n",
        "\n",
        "  for face_location in face_locations:\n",
        "\n",
        "    # Print the location of each face in this image\n",
        "    top, right, bottom, left = face_location\n",
        "    print(\"A face is located at pixel location Top: {}, Left: {}, Bottom: {}, Right: {}\".format(top, left, bottom, right))\n",
        "\n",
        "    # You can access the actual face itself like this:\n",
        "    face_image = image[top:bottom, left:right]\n",
        "    plt.imshow(face_image)\n",
        "    plt.show()"
      ],
      "execution_count": 0,
      "outputs": []
    },
    {
      "cell_type": "markdown",
      "metadata": {
        "id": "GcpzSAcvQ_H2",
        "colab_type": "text"
      },
      "source": [
        "# Tổng hợp\n",
        "\n",
        "Thực hiện phân loại ảnh, phát hiện khuôn mặt và nhận dạng văn bản cho một ảnh đầu vào bằng tích hợp các kỹ thuật ở trên"
      ]
    }
  ]
}