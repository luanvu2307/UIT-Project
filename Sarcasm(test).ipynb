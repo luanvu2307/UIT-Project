{
  "nbformat": 4,
  "nbformat_minor": 0,
  "metadata": {
    "colab": {
      "name": "Sarcasm(test).ipynb",
      "provenance": [],
      "authorship_tag": "ABX9TyMlP/OHPv+kMlLlhv0DppUu",
      "include_colab_link": true
    },
    "kernelspec": {
      "name": "python3",
      "display_name": "Python 3"
    }
  },
  "cells": [
    {
      "cell_type": "markdown",
      "metadata": {
        "id": "view-in-github",
        "colab_type": "text"
      },
      "source": [
        "<a href=\"https://colab.research.google.com/github/snfruby/CS114.K21/blob/master/Sarcasm(test).ipynb\" target=\"_parent\"><img src=\"https://colab.research.google.com/assets/colab-badge.svg\" alt=\"Open In Colab\"/></a>"
      ]
    },
    {
      "cell_type": "code",
      "metadata": {
        "id": "o-KAtv6k5HEk",
        "colab_type": "code",
        "colab": {}
      },
      "source": [
        "import pandas as pd, numpy as np, re, time\n",
        "from nltk.stem.porter import PorterStemmer"
      ],
      "execution_count": 0,
      "outputs": []
    },
    {
      "cell_type": "code",
      "metadata": {
        "id": "L61hyuU9v0ZC",
        "colab_type": "code",
        "colab": {}
      },
      "source": [
        "from sklearn.model_selection import train_test_split\n",
        "from sklearn.metrics import confusion_matrix\n",
        "from sklearn.svm import LinearSVC\n",
        "from sklearn.model_selection import cross_val_score\n",
        "from sklearn.naive_bayes import GaussianNB\n",
        "from sklearn.linear_model import LogisticRegression\n",
        "from sklearn.ensemble import RandomForestClassifier"
      ],
      "execution_count": 0,
      "outputs": []
    },
    {
      "cell_type": "code",
      "metadata": {
        "id": "p2DggzfONlme",
        "colab_type": "code",
        "colab": {}
      },
      "source": [
        "data = pd.read_json(\"Sarcasm_Headlines_Dataset.json\", lines = True)"
      ],
      "execution_count": 0,
      "outputs": []
    },
    {
      "cell_type": "code",
      "metadata": {
        "id": "ETz-776wN8tD",
        "colab_type": "code",
        "colab": {
          "base_uri": "https://localhost:8080/",
          "height": 85
        },
        "outputId": "44a4041e-047c-4d1b-d289-6e48a13b5517"
      },
      "source": [
        "print(data.isnull().any(axis = 0))"
      ],
      "execution_count": 20,
      "outputs": [
        {
          "output_type": "stream",
          "text": [
            "article_link    False\n",
            "headline        False\n",
            "is_sarcastic    False\n",
            "dtype: bool\n"
          ],
          "name": "stdout"
        }
      ]
    },
    {
      "cell_type": "code",
      "metadata": {
        "id": "AVoplGF6OCFg",
        "colab_type": "code",
        "colab": {}
      },
      "source": [
        "# Relacing special symbols and digits in headline column\n",
        "# re stands for Regular Expression\n",
        "data['headline'] = data['headline'].apply(lambda s : re.sub('[^a-zA-Z]', ' ', s))"
      ],
      "execution_count": 0,
      "outputs": []
    },
    {
      "cell_type": "code",
      "metadata": {
        "id": "DwpjId7pOnW0",
        "colab_type": "code",
        "colab": {}
      },
      "source": [
        "# getting features and labels\n",
        "features = data['headline']\n",
        "labels = data['is_sarcastic']"
      ],
      "execution_count": 0,
      "outputs": []
    },
    {
      "cell_type": "code",
      "metadata": {
        "id": "goqf9-9rPBxr",
        "colab_type": "code",
        "colab": {}
      },
      "source": [
        "# Stemming our data\n",
        "ps = PorterStemmer()\n",
        "features = features.apply(lambda x: x.split())\n",
        "features = features.apply(lambda x : \"\".join([ps.stem(word) for word in x]))"
      ],
      "execution_count": 0,
      "outputs": []
    },
    {
      "cell_type": "code",
      "metadata": {
        "id": "oLifpxTOPZv4",
        "colab_type": "code",
        "colab": {}
      },
      "source": [
        "# vectorizing the data with maximum of 5000 features\n",
        "from sklearn.feature_extraction.text import TfidfVectorizer\n",
        "tv = TfidfVectorizer(max_features = 5000)\n",
        "features = list(features)\n",
        "features = tv.fit_transform(features).toarray()"
      ],
      "execution_count": 0,
      "outputs": []
    },
    {
      "cell_type": "code",
      "metadata": {
        "id": "5pjL8kMyPdOq",
        "colab_type": "code",
        "colab": {}
      },
      "source": [
        "# getting training and testing data\n",
        "features_train, features_test, labels_train, labels_test = train_test_split(features, labels, test_size = .05, random_state = 0)"
      ],
      "execution_count": 0,
      "outputs": []
    },
    {
      "cell_type": "code",
      "metadata": {
        "id": "Bknl9asdPgk4",
        "colab_type": "code",
        "colab": {
          "base_uri": "https://localhost:8080/",
          "height": 153
        },
        "outputId": "dc8e32e2-e6e2-43c4-ae49-d658f2ecc5c7"
      },
      "source": [
        "# model 1:-\n",
        "# Using linear support vector classifier\n",
        "lsvc = LinearSVC()\n",
        "# training the model\n",
        "lsvc.fit(features_train, labels_train)\n",
        "# getting the score of train and test data\n",
        "print(lsvc.score(features_train, labels_train)) # 90.93\n",
        "print(lsvc.score(features_test, labels_test))   # 83.75\n",
        "# model 2:-\n",
        "# Using Gaussuan Naive Bayes\n",
        "gnb = GaussianNB()\n",
        "gnb.fit(features_train, labels_train)\n",
        "print(gnb.score(features_train, labels_train))  # 78.86\n",
        "print(gnb.score(features_test, labels_test))    # 73.80\n",
        "# model 3:-\n",
        "# Logistic Regression\n",
        "lr = LogisticRegression()\n",
        "lr.fit(features_train, labels_train)\n",
        "print(lr.score(features_train, labels_train))   # 88.16\n",
        "print(lr.score(features_test, labels_test))     # 83.08\n",
        "# model 4:-\n",
        "# Random Forest Classifier\n",
        "rfc = RandomForestClassifier(n_estimators = 10, random_state = 0)\n",
        "rfc.fit(features_train, labels_train)\n",
        "print(rfc.score(features_train, labels_train))  # 98.82\n",
        "print(rfc.score(features_test, labels_test))    # 79.71"
      ],
      "execution_count": 29,
      "outputs": [
        {
          "output_type": "stream",
          "text": [
            "0.6671658849958617\n",
            "0.5651197604790419\n",
            "0.6671658849958617\n",
            "0.5651197604790419\n",
            "0.6671658849958617\n",
            "0.5651197604790419\n",
            "0.6671658849958617\n",
            "0.5651197604790419\n"
          ],
          "name": "stdout"
        }
      ]
    }
  ]
}