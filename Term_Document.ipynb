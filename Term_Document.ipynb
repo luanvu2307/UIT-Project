{
  "nbformat": 4,
  "nbformat_minor": 0,
  "metadata": {
    "colab": {
      "name": "Term-Document.ipynb",
      "provenance": [],
      "authorship_tag": "ABX9TyPc32XR/Auj6+0YVy6K4C86",
      "include_colab_link": true
    },
    "kernelspec": {
      "name": "python3",
      "display_name": "Python 3"
    }
  },
  "cells": [
    {
      "cell_type": "markdown",
      "metadata": {
        "id": "view-in-github",
        "colab_type": "text"
      },
      "source": [
        "<a href=\"https://colab.research.google.com/github/snfruby/CS114.K21/blob/master/Term_Document.ipynb\" target=\"_parent\"><img src=\"https://colab.research.google.com/assets/colab-badge.svg\" alt=\"Open In Colab\"/></a>"
      ]
    },
    {
      "cell_type": "code",
      "metadata": {
        "id": "jeUR8C_m-3I3"
      },
      "source": [
        "import requests\n",
        "from bs4 import BeautifulSoup\n",
        "import numpy as np\n",
        "import glob\n",
        "import re\n",
        "import os"
      ],
      "execution_count": null,
      "outputs": []
    },
    {
      "cell_type": "code",
      "metadata": {
        "id": "FngRVEA2_BY3"
      },
      "source": [
        "import pandas as pd\n",
        "import io\n",
        "df = pd.read_excel('vnexpress-Data.xlsx', index_col=0)"
      ],
      "execution_count": null,
      "outputs": []
    },
    {
      "cell_type": "code",
      "metadata": {
        "id": "scOt10q8AGyv",
        "outputId": "42f6e885-4409-4436-c368-7dc1c800bfa7",
        "colab": {
          "base_uri": "https://localhost:8080/",
          "height": 419
        }
      },
      "source": [
        "df"
      ],
      "execution_count": null,
      "outputs": [
        {
          "output_type": "execute_result",
          "data": {
            "text/html": [
              "<div>\n",
              "<style scoped>\n",
              "    .dataframe tbody tr th:only-of-type {\n",
              "        vertical-align: middle;\n",
              "    }\n",
              "\n",
              "    .dataframe tbody tr th {\n",
              "        vertical-align: top;\n",
              "    }\n",
              "\n",
              "    .dataframe thead th {\n",
              "        text-align: right;\n",
              "    }\n",
              "</style>\n",
              "<table border=\"1\" class=\"dataframe\">\n",
              "  <thead>\n",
              "    <tr style=\"text-align: right;\">\n",
              "      <th></th>\n",
              "      <th>data</th>\n",
              "      <th>date</th>\n",
              "      <th>url</th>\n",
              "      <th>category</th>\n",
              "    </tr>\n",
              "  </thead>\n",
              "  <tbody>\n",
              "    <tr>\n",
              "      <th>0</th>\n",
              "      <td>Kiến nghị lùi thời điểm lắp camera trên xe vận...</td>\n",
              "      <td>Thứ hai, 21/9/2020, 14:48 (GMT+7)</td>\n",
              "      <td>https://vnexpress.net/kien-nghi-lui-thoi-diem-...</td>\n",
              "      <td>thoi-su</td>\n",
              "    </tr>\n",
              "    <tr>\n",
              "      <th>1</th>\n",
              "      <td>Hiện trạng lún, nứt ở Bảo tàng Mỹ thuật TP HCM</td>\n",
              "      <td>Thứ hai, 21/9/2020, 14:11 (GMT+7)</td>\n",
              "      <td>https://vnexpress.net/hien-trang-lun-nut-o-bao...</td>\n",
              "      <td>thoi-su</td>\n",
              "    </tr>\n",
              "    <tr>\n",
              "      <th>2</th>\n",
              "      <td>Hà Nội đề xuất làm tuyến đường sắt hơn 65.000 ...</td>\n",
              "      <td>Thứ hai, 21/9/2020, 12:37 (GMT+7)</td>\n",
              "      <td>https://vnexpress.net/ha-noi-de-xuat-lam-tuyen...</td>\n",
              "      <td>thoi-su</td>\n",
              "    </tr>\n",
              "    <tr>\n",
              "      <th>3</th>\n",
              "      <td>TP HCM xóa 'nút cổ chai' trên nhiều tuyến đường</td>\n",
              "      <td>Thứ hai, 21/9/2020, 08:16 (GMT+7)</td>\n",
              "      <td>https://vnexpress.net/tp-hcm-xoa-nut-co-chai-t...</td>\n",
              "      <td>thoi-su</td>\n",
              "    </tr>\n",
              "    <tr>\n",
              "      <th>4</th>\n",
              "      <td>6 người chết do bão Noul</td>\n",
              "      <td>Chủ nhật, 20/9/2020, 22:25 (GMT+7)</td>\n",
              "      <td>https://vnexpress.net/6-nguoi-chet-do-bao-noul...</td>\n",
              "      <td>thoi-su</td>\n",
              "    </tr>\n",
              "    <tr>\n",
              "      <th>...</th>\n",
              "      <td>...</td>\n",
              "      <td>...</td>\n",
              "      <td>...</td>\n",
              "      <td>...</td>\n",
              "    </tr>\n",
              "    <tr>\n",
              "      <th>6629</th>\n",
              "      <td>Chủ nhân chăm sóc chim lúc mới nở đến khi trưở...</td>\n",
              "      <td>Thứ sáu, 21/8/2020, 12:00 (GMT+7)</td>\n",
              "      <td>https://vnexpress.net/chu-nhan-cham-soc-chim-l...</td>\n",
              "      <td>hai</td>\n",
              "    </tr>\n",
              "    <tr>\n",
              "      <th>6630</th>\n",
              "      <td>Hai 'nữ quái' trộm chậu rau húng</td>\n",
              "      <td>Thứ sáu, 21/8/2020, 10:26 (GMT+7)</td>\n",
              "      <td>https://vnexpress.net/hai-nu-quai-trom-chau-ra...</td>\n",
              "      <td>hai</td>\n",
              "    </tr>\n",
              "    <tr>\n",
              "      <th>6631</th>\n",
              "      <td>Tài xế khổ sở đỗ xe</td>\n",
              "      <td>Thứ sáu, 21/8/2020, 09:10 (GMT+7)</td>\n",
              "      <td>https://vnexpress.net/tai-xe-kho-so-do-xe-4148...</td>\n",
              "      <td>hai</td>\n",
              "    </tr>\n",
              "    <tr>\n",
              "      <th>6632</th>\n",
              "      <td>Võ sĩ 'dập mông' vì tung cước theo phong cách ...</td>\n",
              "      <td>Thứ sáu, 21/8/2020, 08:00 (GMT+7)</td>\n",
              "      <td>https://vnexpress.net/vo-si-dap-mong-vi-tung-c...</td>\n",
              "      <td>hai</td>\n",
              "    </tr>\n",
              "    <tr>\n",
              "      <th>6633</th>\n",
              "      <td>Tại sao ấm nước của công chúa út sôi trước?</td>\n",
              "      <td>Thứ sáu, 21/8/2020, 00:01 (GMT+7)</td>\n",
              "      <td>https://vnexpress.net/tai-sao-am-nuoc-cua-cong...</td>\n",
              "      <td>hai</td>\n",
              "    </tr>\n",
              "  </tbody>\n",
              "</table>\n",
              "<p>6634 rows × 4 columns</p>\n",
              "</div>"
            ],
            "text/plain": [
              "                                                   data  ... category\n",
              "0     Kiến nghị lùi thời điểm lắp camera trên xe vận...  ...  thoi-su\n",
              "1        Hiện trạng lún, nứt ở Bảo tàng Mỹ thuật TP HCM  ...  thoi-su\n",
              "2     Hà Nội đề xuất làm tuyến đường sắt hơn 65.000 ...  ...  thoi-su\n",
              "3       TP HCM xóa 'nút cổ chai' trên nhiều tuyến đường  ...  thoi-su\n",
              "4                              6 người chết do bão Noul  ...  thoi-su\n",
              "...                                                 ...  ...      ...\n",
              "6629  Chủ nhân chăm sóc chim lúc mới nở đến khi trưở...  ...      hai\n",
              "6630                   Hai 'nữ quái' trộm chậu rau húng  ...      hai\n",
              "6631                                Tài xế khổ sở đỗ xe  ...      hai\n",
              "6632  Võ sĩ 'dập mông' vì tung cước theo phong cách ...  ...      hai\n",
              "6633        Tại sao ấm nước của công chúa út sôi trước?  ...      hai\n",
              "\n",
              "[6634 rows x 4 columns]"
            ]
          },
          "metadata": {
            "tags": []
          },
          "execution_count": 8
        }
      ]
    },
    {
      "cell_type": "code",
      "metadata": {
        "id": "6FP6Ie6pAf8o",
        "outputId": "fe830c00-ed22-488c-dd5b-fdeaafbf1912",
        "colab": {
          "base_uri": "https://localhost:8080/",
          "height": 35
        }
      },
      "source": [
        "URL = df['url'].tolist()\n",
        "category = df['category'].tolist()\n",
        "print(len(category))"
      ],
      "execution_count": null,
      "outputs": [
        {
          "output_type": "stream",
          "text": [
            "6634\n"
          ],
          "name": "stdout"
        }
      ]
    },
    {
      "cell_type": "code",
      "metadata": {
        "id": "n2usIR-PBzGw",
        "outputId": "58aae6f3-f943-4a45-d432-a169f218df29",
        "colab": {
          "base_uri": "https://localhost:8080/",
          "height": 35
        }
      },
      "source": [
        "# lấy dữ liệu url với thể loại : thể thao\n",
        "url_thethao=[]\n",
        "for i in range(len(category)):\n",
        "  if category[i]=='the-thao':\n",
        "    url_thethao.append(URL[i])\n",
        "len(url_thethao)"
      ],
      "execution_count": null,
      "outputs": [
        {
          "output_type": "execute_result",
          "data": {
            "text/plain": [
              "739"
            ]
          },
          "metadata": {
            "tags": []
          },
          "execution_count": 4
        }
      ]
    },
    {
      "cell_type": "code",
      "metadata": {
        "id": "3FeNJ3wEGOG7",
        "outputId": "fd026061-eb61-458f-f32c-90fe77039c99",
        "colab": {
          "base_uri": "https://localhost:8080/",
          "height": 219
        }
      },
      "source": [
        "# cào thử 5 url , đồng thời tạo file.txt sau đó đưa nội  dung vào bên trong\n",
        "data=[]\n",
        "k=0\n",
        "for x in url_thethao[0:5]:\n",
        "  print(x)\n",
        "  r1 = requests.get(x)\n",
        "  coverpage = r1.content\n",
        "  soup1 = BeautifulSoup(coverpage, 'html5lib')\n",
        "  coverpage_news = soup1.find_all(\"p\")\n",
        "  for i in coverpage_news:\n",
        "    data.append(i.get_text())\n",
        "  print(data)\n",
        "  f= open(\"file\"+str(k)+'.txt',\"w+\")\n",
        "  with open('/content/file'+str(k)+'.txt', 'w') as writefile:\n",
        "      for y in range(len(data)):\n",
        "        writefile.write(data[y])\n",
        "  k=str(int(k)+1)\n",
        "  data.clear()\n"
      ],
      "execution_count": null,
      "outputs": [
        {
          "output_type": "stream",
          "text": [
            "https://vnexpress.net/mourinho-cuop-loi-son-heung-min-de-ca-ngoi-kane-4165089.html\n",
            "['Son Heung-min đang trả lời phỏng vấn sau khi lập poker ở Ngoại hạng Anh hôm 20/9, bất thình lình HLV Jose Mourinho chen vào và nói rằng Harry Kane mới là cầu thủ hay nhất.', 'Son được kênh BBC phỏng vấn sau chiến thắng 5-2 ở vòng 2 Ngoại hạng Anh trên sân của Southampton. Trận này, tiền đạo người Hàn Quốc ghi bốn bàn và được bình chọn là \"Cầu thủ hay nhất\". Toàn bộ các bàn thắng đó đều do Harry Kane kiến tạo. Anh cũng đồng thời là tác giả bàn còn lại của Tottenham.', 'Trong lúc Son đang lắng nghe câu hỏi, Jose Mourinho bỗng ghé đầu vào rồi nói \"Cầu thủ hay nhất trận, Harry Kane\".', 'Ông sau đó vỗ vai Son và rời đi, trong lúc cậu học trò cười gượng gạo.', 'Mourinho bất ngờ chen ngang buổi phỏng vấn sau trận của Son. Ảnh: BBC.', 'Phóng viên của BBC lập tức hỏi Son: \"Nếu HLV trưởng đã nói như thế, anh có lý gì để tranh luận không?\".', '\"Tôi sẽ nói rằng Harry là cầu thủ hay nhất trận, bởi vì anh ấy ghi một bàn và bốn lần kiến tạo\", tiền đạo sinh năm 1992 đáp. \"Chúng tôi đã thi đấu cùng nhau rất lâu. Đây là mùa thứ sáu rồi. Chúng tôi hiểu nhau, muốn duy trì một mối quan hệ tốt cả trong lẫn ngoài sân cỏ. Tôi nghĩ, chúng tôi luôn nỗ lực cải thiện mối quan hệ, thậm chí để nó tốt hơn hiện tại. Có lẽ chúng tôi chưa phải cặp tiền đạo hoàn hảo nhưng cả tôi lẫn anh ấy đều đang hướng đến một mối quan hệ hoàn hảo\".', 'Theo thống kê của hãng Opta, đây là lần đầu tiên trong lịch sử Ngoại hạng Anh, một cầu thủ kiến tạo cho một đồng đội ghi tới bốn bàn trong một trận đấu.', 'Kane là cầu thủ người Anh đầu tiên kiến tạo bốn bàn trong một trận, đồng thời là người thứ sáu làm được điều này tại Ngoại hạng Anh. Anh còn là cầu thủ đầu tiên in dấu giày vào năm bàn trong một trận từ sau Mohamed Salah, người ghi bốn bàn và kiến tạo một bàn trong trận Liverpool hạ Watford 5-0 ở Ngoại hạng Anh hồi tháng 3/2018.', 'Trong khi đó, ba bàn đầu của Son giúp anh trở thành cầu thủ thứ tư trong lịch sử lập hat-trick tại Ngoại hạng Anh với chỉ một người kiến tạo. Bốn bàn mà Kane kiến tạo cho Son ghi vào lưới Southampton cũng giúp bộ đôi có cả thảy 24 pha phối hợp làm bàn từ năm 2015. Họ nhờ đó trở thành cặp tấn công ăn ý nhất Ngoại hạng Anh trong cùng thời gian.', 'Cá nhân Son trở thành cầu thủ thứ 28 trong lịch sử từng ghi bốn bàn trong một trận đấu ở Ngoại hạng Anh. Chỉ sáu trường hợp đã hai lần lập poker, gồm Michael Owen, Robbie Fowler, Ole Gunnar Solskjaer, Frank Lampard, Yakubu Ayegbeni và Serrgio Aguero.', 'Duy Đoàn (theo Goal)']\n",
            "https://vnexpress.net/bay-nam-cua-gareth-bale-o-real-4165065.html\n",
            "['Vắng mặt 33% số trận và dính 98 ca chấn thương, Gareth Bale vẫn góp công giúp Real Madrid đoạt 14 danh hiệu trước khi trở lại Tottenham hè 2020.', '', '', 'Đồ họa: Tiến Thành', '']\n",
            "https://vnexpress.net/djokovic-lai-cai-nhau-voi-trong-tai-4165002.html\n",
            "['Novak Djokovic tiếp tục bị cảnh cáo khi chửi thề trong trận thắng Casper Ruud 7-5, 6-3 ở bán kết Rome Masters hôm 20/9.', 'Ở game thứ ba set hai, Djokovic và trọng tài tranh cãi sau khi cùng đến kiểm tra vết bóng. Djokovic cho rằng bóng ngoài từ cú đánh của Ruud, nhưng trọng tài nói không. Tay vợt số một thế giới chửi thề và bị cảnh cáo.', 'Djokovic ức chế với các quyết định không chuẩn xác của trọng tài. Ảnh: ES.', '\"Tôi xứng đáng bị cảnh cáo\", Djokovic nói sau trận. \"Tôi đã không nói những điều tốt đẹp bằng ngôn ngữ của bản thân. Tôi đã cự cãi với trọng tài sau những tình huống nhạy cảm. Như tôi biết thì tôi đã đúng ở cả ba tình huống. Nhưng không sao, ai cũng có sai lầm. Mọi thứ ổn. Lúc đó, tôi không giữ được bình tĩnh, một phần vì sức nóng của trận đấu. Áp lực đè nặng lên cả hai tay vợt\".', 'Trong ba tình huống Djokovic muốn phủ quyết trọng tài, anh đều đúng, nếu xét trên những gì khán giả truyền hình được thấy qua công nghệ mắt diều hâu. Nhưng ở mặt sân đất nện, các tay vợt và trọng tài không được tham khảo mắt diều hâu. Trọng tài là người quyết định cuối cùng sau khi xem vết bóng.', '\"Tôi không hiểu sao ông lại thấy bóng dính vạch\", Djokovic nói ở lần tranh cãi thứ hai. \"Có một khoảng trống giữa vết bóng và vạch ở đây\".', '\"Không, tôi chẳng thấy có khoảng trống nào cả\", trọng tài đáp lại. Djokovic sau đó bực bội và nói: \"Ông thật không thể tin nổi\".', 'Vết bóng ở một trong ba tình huống mà Djokovic cho rằng trọng tài đã sai. Ảnh chụp màn hình.', 'Trong bốn trận đã đấu tại Rome Masters, có tới ba trận Djokovic lời qua tiếng lại với trọng tài. Ở vòng hai, anh phàn nàn về âm thanh trên khán đài, và trọng tài đáp lại với ngụ ý không nghe thấy tiếng ồn. Đến tứ kết, Djokovic đập vợt trong set hai trận gặp Koepfer và ngay lập tức nhận án cảnh cáo.', 'Bất chấp những bất ổn về tâm lý từ sau lần bị truất quyền thi đấu ở Mỹ Mở rộng hai tuần trước, Djokovic vẫn thẳng tiến vào chung kết sau khi hạ Ruud 7-5, 6-3. Anh sẽ gặp Diego Schwartzman ở chung kết lúc 22h hôm nay 21/9, theo giờ Hà Nội.', 'Nhân Đạt']\n",
            "https://vnexpress.net/hlv-pirlo-tim-cach-cho-ronaldo-nghi-ngoi-4164809.html\n",
            "['HLV Andrea Pirlo muốn tiền đạo Cristiano Ronaldo dưỡng sức ở một vài trận đấu ít quan trọng, dù anh sắp vượt số bàn thắng của Pele.', '\"Chúng tôi đã bàn về kế hoạch giữ sức Ronaldo\", Pirlo nói sau khi Juventus thắng Sampdoria ở vòng một Serie A tối 20/9. \"Cậu ấy chưa thấy mệt, vì mùa giải vừa bắt đầu. Nhưng, tôi sẽ cho Ronaldo nghỉ ở những trận cầu ít quan trọng. Ronaldo rất thông minh và hiểu rõ cơ thể bản thân. Cậu ấy biết khi nào cần nghỉ ngơi\".', 'Pirlo muốn Ronaldo nghỉ ở những trận không quan trọng. Ảnh: Reuters', 'Ronald bỏ lỡ nhiều cơ hội ngon ăn, nhưng cũng kịp ghi bàn ấn định tỷ số 3-0 trước Sampdoria. Trong bàn mở tỷ số của Dejan Kulusevski, Ronaldo cũng góp dấu giày với pha đi bóng đột phá bị cản lại. Tân binh Kulusevski ca ngợi Ronaldo sau trận: \"Ronaldo rất tuyệt và tôi hạnh phúc vì được làm đồng đội của anh ấy. Khi chúng tôi đang dẫn 2-0, anh ấy nói với tôi rằng tiếp tục tấn công. Anh ấy vẫn muốn ghi thêm nhiều bàn nữa\".', 'Ronaldo đã ghi 758 bàn trong sự nghiệp, từ cấp độ trẻ. Anh cần thêm lần lượt 10 và 15 bàn để vượt qua thành tích của Pele và Romario. Kỷ lục ghi bàn đang thuộc về Josef Bican với ít nhất 805 bàn thắng, giai đoạn 1931-1956.', 'Do Juventus đã chia tay Gonzalo Higuain, còn Paulo Dybala chấn thương, Ronaldo chơi như tiền đạo cắm trong sơ đồ 5-4-1. Juventus đã đạt thỏa thuận với Roma để chiêu mộ tiền đạo 34 tuổi Edin Dzeko về đá cặp với Ronaldo.', 'Hoàng An (theo Goal)']\n",
            "https://vnexpress.net/djokovic-schwartzman-di-vao-lich-su-4165230.html\n",
            "['Novak Djokovic sẽ lập kỷ lục về số danh hiệu Masters 1000, nếu hạ Diego Schwartzman ở chung kết Rome Masters hôm nay 21/9.', '*Djokovic - Schwartzman: 22h thứ Hai 21/9, theo giờ Hà Nội.\\nKhi ATP Tour trở lại tháng trước, Djokovic vẫn xếp sau Rafael Nadal về số danh hiệu Masters 1000. Nhưng lúc này, tay vợt số một thế giới đang đứng trước cơ hội độc chiếm kỷ lục danh giá. Từ sau đại dịch, anh đã vô địch tại Cincinnati và giờ chỉ cách danh hiệu thứ năm tại Rome một trận thắng.\\n\"Đây là những giải đấu lớn nhất mà chúng tôi có trên ATP Tour\", Djokovic nói với ATP hôm 21/9. \"Những giải Masters 1000 là nơi tôi muốn trình diễn thứ tennis tốt nhất, bên cạnh các giải Grand Slam và ATP 1000\".\\nDjokovic đang có cùng 35 Masters 1000 như Nadal. Nhưng trong khi \"Vua đất nện\" bị loại ở tứ kết Rome Masters, tay vợt số một thế giới chuẩn bị đấu trận chung kết thứ 10 tại Foro Italico. Người khiến trận chung kết trong mơ giữa Nadal và Djokovic không thể xảy ra là Diego Schwartzman, đối thủ của Djokovic tối nay.', 'Djokovic thắng trong cả bốn lần đối đầu trước đây với Schwartzman. Ảnh: AP.', 'Sau khi hạ Nadal ở tứ kết bởi thứ tennis mà Schwartzman mô tả là \"tốt nhất của bản thân trong sự nghiệp\", tay vợt Argentina loại tiếp Denis Shapovalov. Thể lực có thể là vấn đề với Schwartzman, sau trận bán kết dài hơn ba giờ đồng hồ. Nhưng nếu duy trì cảm giác tấn công và đánh bền tốt như ở trận gặp Nadal, tay vợt cao 1m70 không e ngại bất cứ đối thủ nào.\\nViệc đối đầu với Schwartzman mang đến cảm giác lạ lẫm cho Djokovic, người từng cùng Nadal tạo ra tám cuộc đối đầu ở Rome, trong đó có năm trận chung kết. \"Hầu như mỗi lần tôi lọt vào chung kết trên mặt sân đất nện, đối thủ là Rafa\", Djokovic chia sẻ. \"Lần này, cảm giác có chút khác lạ. Nhưng Diego rất xứng đáng có mặt ở trận đấu cuối cùng. Tôi sẽ phải chơi hết khả năng nếu muốn vô địch\".\\nHôm nay, Djokovic đã vuợt qua Pete Sampras về số tuần đứng trên đỉnh bảng điểm thế giới. Với 287 tuần ở vị trí số một, tay vợt Serbia chỉ còn kém kỷ lục của Roger Federer 23 tuần. Chiến thắng trước Schwartzman, chức vô địch thứ năm ở Rome cùng kỷ lục 36 Masters sẽ giúp Djokovic xóa nhòa ký ức buồn bị truất quyền thi đấu tại Mỹ Mở rộng hai tuần trước.', 'Nhân Đạt']\n"
          ],
          "name": "stdout"
        }
      ]
    },
    {
      "cell_type": "code",
      "metadata": {
        "id": "wtyGB5T-Kc0h",
        "outputId": "cfc55447-aca4-46fc-ff00-7dac64d8dbee",
        "colab": {
          "base_uri": "https://localhost:8080/",
          "height": 55
        }
      },
      "source": [
        "Name=[]\n",
        "file_paths = glob.glob(\"/content/*.txt\")\n",
        "lst_contents = []\n",
        "dictionary = set()\n",
        "for file_path in file_paths:\n",
        "    f = open(file_path, 'r')\n",
        "    str = f.read()\n",
        "    # lst_contents.append(str)\n",
        "    words = str.replace('\"', '').replace('.', '').replace(\"'\",\"\").split()\n",
        "    Name.append(os.path.splitext(file_path)[0][9:])\n",
        "  \n",
        "\n",
        "    \n",
        "    words = set(words)\n",
        "    lst_contents.append(words)\n",
        "    dictionary.update(words)\n",
        "    #print(words)\n",
        "    #print ('Noi dung file cua ban la:\\n', str)\n",
        "print('Tap cac tu: ', dictionary)\n",
        "dictionary = list(dictionary)\n"
      ],
      "execution_count": null,
      "outputs": [
        {
          "output_type": "stream",
          "text": [
            "Tap cac tu:  {'hoạch', 'ngon', 'một,', 'Slam', 'Dybala', 'Sampras', 'luận', 'kém', 'khi', 'hỏi', 'đúng,', 'tuyệt', 'vạch', 'cãi', 'thấy', 'phối', 'theo', 'ghi', 'trưởng', 'đồng', 'Thành', 'này,', 'hồi', 'lưới', 'ba', 'lỡ', 'lên', '287', 'dẫn', 'tạo,', 'Rafael', 'vấn', 'Vắng', 'đều', 'kết,', 'trò', 'Trận', 'các', 'ngại', 'cáo,', 'xếp', 'đã', 'Vua', 'kịp', 'quyết', 'đáp', 'An', 'hỏi,', 'sự', 'sáu', 'RonaldoHoàng', 'hội', 'tĩnh,', 'sao', 'lắng', 'Chỉ', 'Liverpool', 'Watford', 'nỗ', 'Higuain,', 'anh', 'nhau,', 'Romario', 'hảoTheo', 'đồ', 'xảy', 'nayDjokovic', '1931-1956Do', 'hiệu', 'cản', 'tuần', 'tám', 'lý', 'ngữ', 'sức', 'giữa', 'trước,', 'Son', 'KaneÔng', 'Gareth', 'như', 'trẻ', 'nhấtSon', 'bên', 'Tour,', 'bóngTôi', '21/9*Djokovic', 'Pete', 'tới', 'luôn', 'Southampton', 'trí', 'hảo', 'cắm', 'cơ', 'bằng', 'Schwartzman:', 'cuối', 'công', 'Owen,', 'đấuKane', 'Họ', 'tức', 'ký', 'nó', 'phủ', 'tháng', 'giữ', 'cáoDjokovic', 'thình', 'Andrea', 'có', '98', 'mỗi', 'Serrgio', 'nói', '-', 'ngoài', 'rồi', 'Novak', 'Quốc', 'Goal)', 'Foro', 'từ', 'NộiNhân', 'phần', 'hệ,', 'nhân', 'Mourinho', 'đột', 'phá', 'Như', 'tennis', 'bình', 'hâu', 'Bốn', 'hè', 'trình', 'nữaRonaldo', 'đối', 'Lúc', '20/9,', 'diều', 'ESTôi', 'tiến', 'lình', 'pha', 'minh', 'ngay', 'chen', 'thắng,', 'rời', 'thời', 'trường', 'Tour', 'trước', 'thật', 'là', 'Áp', 'cả,', 'truất', '5-0', 'đó,', 'Hà', 'Italico', 'tiếp', 'bị', 'vô', 'Mở', 'vòng', 'Son:', 'cũng', 'Hai', 'tay', 'sau', 'sao,', 'thiện', 'cáoBất', 'âm', 'tốt', 'hạ', 'trọng,', '33%', 'xóa', 'trận', 'ấy', 'đè', 'bởi', 'Kulusevski', 'tham', 'Ông', 'hãng', '1m70', 'cho', 'Schwartzman,', 'định', '15', 'Kỷ', 'đạt', 'Casper', 'thể', 'cấp', 'kê', 'Anh,', 'Schwartzman', 'và', 'Ronaldo,', 'phải', 'Đến', 'Paulo', 'nhờ', 'nhận', 'nhưng', 'hết', 'chuẩn', 'tấn', 'không?Tôi', 'ăn', 'lập', 'đỉnh', 'tích', 'cần', 'sẻ', 'Hàn', 'Fowler,', 'Tân', '805', 'trọng', 'Lần', 'cự', '2', 'trên', 'hạnh', 'cười', 'chiến', 'Với', 'lục', 'nhất,', 'cải', 'học', 'Nhưng,', 'rõ', 'Kane', 'khiến', 'cỏ', 'Có', 'e', 'Trọng', 'tâm', 'tạo', 'vừa', 'Josef', 'ra', 'trả', 'set', 'thứ', 'game', 'ngơiPirlo', 'ông', 'gạoMourinho', '20/9', 'hay', 'màn', 'đi,', 'khả', 'lượt', 'chí', 'thủ', 'chưa', 'hai,', 'điểm', 'nào', 'Djokovic,', 'Masters', 'Ruud,', 'mặt', 'cạnh', 'dính', 'Trong', '2020Đồ', 'thống', 'ấn', 'Jose', 'giải', 'nghỉ', 'chấn', 'đánh', 'Edin', 'đáng', 'người', 'tiền', 'Mohamed', 'nổiVết', 'nện,', 'Mỹ', 'đoạt', 'bất', 'muốn', 'in', 'trận:', 'đôi', 'biết', 'Cậu', 'đến', 'Rafa,', 'gượng', 'Heung-min', 'bốn', 'ồn', 'phỏng', 'BBC', 'năm', 'lầm', 'ngôn', 'xứng', 'Ảnh:', 'vỗ', 'thông', 'lại', 'độc', 'cặp', '6-3', '3-0', 'thương,', 'hạng', 'Bale', 'ai', 'cảm', 'Đạt', 'hơn', 'Masters,', 'thẳng', 'Yakubu', 'được', 'dù', 'họa:', 'kiểm', 'giới', 'chiêu', 'vị', 'poker', 'Đây', 'ăn,', 'đang', 'hiểu', 'thanh', 'tả', 'từng', 'dấu', 'vì', 'chia', 'Pele', 'Ảnh', 'đá', 'bắt', 'kênh', 'nện', 'tra', 'sai', 'poker,', '36', 'đoạn', '5-2', 'hiện', 'đề', 'cùng', 'Hầu', 'năng', 'bóng', 'lực', 'gianCá', '21/9', 'đúng', 'Opta,', 'về', 'gồm', '3/2018Trong', 'rằng', 'thề', 'Koepfer', 'Ngoại', 'Cincinnati', 'với', 'trong', 'Gunnar', 'TottenhamTrong', 'Grand', 'Serbia', 'Nadal,', 'hình', 'đầu', 'Rome,', 'ức', '1992', 'vết', 'phàn', 'vạch,', 'cậu', 'dài', 'Bican', 'hat-trick', 'Dzeko', 'qua', '1000', 'Roger', 'Ronaldo', 'Lampard,', 'giá', 'Ở', 'Roma', 'khán', 'giờ', 'trướcNhân', 'lẫm', 'kỷ', 'giúp', 'PeleChúng', 'nhất', 'hồ', 'mắt', 'Djokovic', 'quan', 'xét', 'hai', 'cứ', 'ở', 'do', 'Ayegbeni', 'Argentina', 'dịch,', 'đi', 'giác', 'Hôm', 'Tiến', '7-5,', 'nơi', 'cầu', 'lần', 'vào', 'rộng', 'cuộc', 'vuợt', 'bỏ', 'cách', 'còn', 'Solskjaer,', 'Serie', 'góp', 'tác', 'A', 'xác', 'đập', 'tối', 'nhạy', 'Nadal', 'chẳng', 'tiếng', 'hợp', 'sơ', 'đây', '20/9Ở', 'nặng', 'nếu', 'quyền', 'Federer', 'tứ', 'sắp', 'cáo', 'tranh', 'binh', 'bảng', 'lâu', 'ý', 'đẹp', 'vai', 'Pirlo', 'độ', 'Madrid', 'ghé', 'APSau', 'gì', 'nhau', 'hìnhTrong', 'nói:', 'đấu', '14', 'bội', 'vợt', 'bền', 'Chiến', 'chức', 'ngợi', 'Cristiano', 'dưỡng', 'huống', '2015', '2-0,', 'Đoàn', '23', 'Michael', 'mở', 'chụp', 'sử', 'ít', 'vợtTrong', 'thế', 'BBCPhóng', 'khoảng', 'địch', 'Khi', 'chút', 'mối', 'danh', 'AgueroDuy', 'bản', 'Nhưng', 'lẫn', '22h', 'mơ', 'kế', 'nhòa', 'thuộc', 'ca', 'ATP', 'tình', '28', 'thành', 'hướng', '10', 'giai', '5-4-1', 'đất', 'tin', 'lạ', 'Gonzalo', 'Tôi', 'mô', 'lọt', 'ngờ', 'tôi', 'chấp', 'đứng', 'Cầu', 'chọn', 'đạo', 'sẽ', 'cảnh', 'mới', 'Salah,', 'thân', 'viên', 'chung', 'mộ', 'buồn', 'lúc', 'tục', 'lớn', 'nghĩ,', 'Tay', 'làm', 'nóng', 'diễn', 'nghiệp,', 'ổn', 'khảo', 'HLV', '758', 'Tottenham', 'Mọi', 'thuận', 'tuổi', 'Toàn', 'tiên', 'Thể', 'bỗng', 'Nếu', 'chỉ', 'Những', 'mà', 'án', 'giả', 'sinh', 'trở', 'ReutersRonald', 'cú', 'giày', 'Diego', 'tư', 'không', 'buổi', 'thi', '24', 'một', 'trống', 'nghệ', 'ngang', 'nàn', 'mùa', '21/9,', 'cao', 'chơi', 'hoàn', 'duy', 'Dejan', 'đó', 'đội', 'Anh', 'truyền', '(theo', 'kiến', 'trận,', '34', 'chế', 'xem', 'mang', 'thắng', 'nghe', 'này', 'Từ', 'chúng', 'rất', 'bán', 'Juventus', 'nhiều', 'Việc', 'tài,', 'cả', 'tại', 'tài', 'gặp', 'Nội', 'đài,', 'đại', 'điều', 'trì', 'Ole', 'của', 'bực', 'Ruud', 'hệ', 'đâyKhông,', 'ngụ', 'thế,', 'hôm', 'Rome', 'Sampdoria', 'lời', 'vẫn', 'số', '35', 'bộ', 'Người', 'Chúng', 'khác', 'nay,', 'những', 'để', 'câu', 'chửi', 'chiếm', 'sân', 'thảy', 'thỏa', 'thêm', 'thì', 'vượt', 'nay', 'phúc', 'Frank', 'Harry', 'tỷ', 'Shapovalov', 'Kulusevski,', 'vài', 'kết', 'bàn', 'lẽ', '1000,', 'lịch', 'Denis', 'loại', 'mệt,', 'Real', 'Robbie', 'thậm'}\n"
          ],
          "name": "stdout"
        }
      ]
    },
    {
      "cell_type": "code",
      "metadata": {
        "id": "eIrZXUpeLxw0",
        "outputId": "88a9664b-cbdb-4be2-f178-529c79e7b4d2",
        "colab": {
          "base_uri": "https://localhost:8080/",
          "height": 290
        }
      },
      "source": [
        "term_doc = np.zeros((len(dictionary), len(file_paths)))\n",
        "print(term_doc)\n",
        "print('Kich thuoc ma tran: ', term_doc.shape)\n",
        "for k,word in enumerate(dictionary):\n",
        "    for i,content in enumerate(lst_contents):\n",
        "        if word in content:\n",
        "            term_doc[k,i] = 1\n",
        "            #print(word,\"    \",content)\n",
        "print(term_doc)\n"
      ],
      "execution_count": null,
      "outputs": [
        {
          "output_type": "stream",
          "text": [
            "[[0. 0. 0. 0. 0.]\n",
            " [0. 0. 0. 0. 0.]\n",
            " [0. 0. 0. 0. 0.]\n",
            " ...\n",
            " [0. 0. 0. 0. 0.]\n",
            " [0. 0. 0. 0. 0.]\n",
            " [0. 0. 0. 0. 0.]]\n",
            "Kich thuoc ma tran:  (685, 5)\n",
            "[[0. 1. 0. 0. 0.]\n",
            " [0. 1. 0. 0. 0.]\n",
            " [0. 0. 0. 0. 1.]\n",
            " ...\n",
            " [0. 0. 1. 0. 0.]\n",
            " [1. 0. 0. 0. 0.]\n",
            " [1. 0. 0. 0. 0.]]\n"
          ],
          "name": "stdout"
        }
      ]
    },
    {
      "cell_type": "code",
      "metadata": {
        "id": "7d5AmuaMMjVS",
        "outputId": "3948447b-f633-4f8d-c07a-282aa76e1533",
        "colab": {
          "base_uri": "https://localhost:8080/",
          "height": 35
        }
      },
      "source": [
        "query = 'NOT \"Dybala\" AND NOT \"Sampras\" OR NOT \"khi\" XOR NOT \"Slam\"' \n",
        "query_words = re.findall('\"(\\w+)\"', query)\n",
        "print(query_words)"
      ],
      "execution_count": null,
      "outputs": [
        {
          "output_type": "stream",
          "text": [
            "['Dybala', 'Sampras', 'khi', 'Slam']\n"
          ],
          "name": "stdout"
        }
      ]
    },
    {
      "cell_type": "code",
      "metadata": {
        "id": "ntSdEM-aZItq"
      },
      "source": [
        "array=[]"
      ],
      "execution_count": null,
      "outputs": []
    },
    {
      "cell_type": "code",
      "metadata": {
        "id": "6pd9SstMOaPn",
        "outputId": "8d130529-5210-4e07-f495-11f7fa845ea3",
        "colab": {
          "base_uri": "https://localhost:8080/",
          "height": 90
        }
      },
      "source": [
        "for query_word in query_words:\n",
        "    # tra vi tri cua query_word trong dictionary\n",
        "    try:\n",
        "        k = dictionary.index(query_word)\n",
        "        word_vec = term_doc[k,:]\n",
        "        print('Vector bieu dien cua ', query_word, ' la: ', word_vec)\n",
        "        array.append(word_vec)\n",
        "    except:\n",
        "        pass\n"
      ],
      "execution_count": null,
      "outputs": [
        {
          "output_type": "stream",
          "text": [
            "Vector bieu dien cua  Dybala  la:  [0. 1. 0. 0. 0.]\n",
            "Vector bieu dien cua  Sampras  la:  [0. 0. 0. 0. 1.]\n",
            "Vector bieu dien cua  khi  la:  [1. 1. 1. 1. 1.]\n",
            "Vector bieu dien cua  Slam  la:  [0. 0. 0. 0. 1.]\n"
          ],
          "name": "stdout"
        }
      ]
    },
    {
      "cell_type": "code",
      "metadata": {
        "id": "iJRiIBOBWFio",
        "outputId": "8157c756-9a69-4cb8-d076-7ec811f31880",
        "colab": {
          "base_uri": "https://localhost:8080/",
          "height": 35
        }
      },
      "source": [
        "boolean = re.findall('(\\w+) ',query)\n",
        "boolean"
      ],
      "execution_count": null,
      "outputs": [
        {
          "output_type": "execute_result",
          "data": {
            "text/plain": [
              "['NOT', 'AND', 'NOT', 'OR', 'NOT', 'XOR', 'NOT']"
            ]
          },
          "metadata": {
            "tags": []
          },
          "execution_count": 144
        }
      ]
    },
    {
      "cell_type": "code",
      "metadata": {
        "id": "QLpRIbHpa15s",
        "outputId": "2a184afe-c354-45d7-9cd5-101c8c01fb3a",
        "colab": {
          "base_uri": "https://localhost:8080/",
          "height": 74
        }
      },
      "source": [
        "# xử lý tất cả những trường hợp NOT trước\n",
        "count = 0\n",
        "for i in range(len(boolean)):\n",
        "  if boolean[i]=='NOT':\n",
        "    array[i-count]=np.logical_not(array[i-count])\n",
        "    count+=1\n",
        "print(array)\n",
        "\n",
        "for i in range(len(boolean)):\n",
        "  if 'NOT' in boolean:\n",
        "    boolean.remove('NOT')\n",
        "print(boolean)\n"
      ],
      "execution_count": null,
      "outputs": [
        {
          "output_type": "stream",
          "text": [
            "[array([ True, False,  True,  True,  True]), array([ True,  True,  True,  True, False]), array([False, False, False, False, False]), array([ True,  True,  True,  True, False])]\n",
            "['AND', 'OR', 'XOR']\n"
          ],
          "name": "stdout"
        }
      ]
    },
    {
      "cell_type": "code",
      "metadata": {
        "id": "dLfxU-zhgpy3",
        "outputId": "21864ef1-3420-49a2-c1d2-a23fb15d09bc",
        "colab": {
          "base_uri": "https://localhost:8080/",
          "height": 90
        }
      },
      "source": [
        "array"
      ],
      "execution_count": null,
      "outputs": [
        {
          "output_type": "execute_result",
          "data": {
            "text/plain": [
              "[array([ True, False,  True,  True,  True]),\n",
              " array([ True,  True,  True,  True, False]),\n",
              " array([False, False, False, False, False]),\n",
              " array([ True,  True,  True,  True, False])]"
            ]
          },
          "metadata": {
            "tags": []
          },
          "execution_count": 146
        }
      ]
    },
    {
      "cell_type": "code",
      "metadata": {
        "id": "Xt2zS4CIYuA4",
        "outputId": "fd023a07-79f6-40da-bf53-eef93931e610",
        "colab": {
          "base_uri": "https://localhost:8080/",
          "height": 72
        }
      },
      "source": [
        "# xử lý các trường hợp AND OR XOR => kết quả cuối cùng\n",
        "temp=array[0]\n",
        "for i in range(len(boolean)):\n",
        "  if boolean[i]=='AND':\n",
        "    temp= np.logical_and(temp,array[i+1])\n",
        "  if boolean[i]=='OR':\n",
        "    temp= np.logical_or(temp,array[i+1])\n",
        "  if boolean[i]=='XOR':\n",
        "    temp= np.logical_xor(temp,array[i+1])\n",
        "  print(temp)\n",
        "  "
      ],
      "execution_count": null,
      "outputs": [
        {
          "output_type": "stream",
          "text": [
            "[ True False  True  True False]\n",
            "[ True False  True  True False]\n",
            "[False  True False False False]\n"
          ],
          "name": "stdout"
        }
      ]
    },
    {
      "cell_type": "code",
      "metadata": {
        "id": "qY7gVjoBjbWr",
        "outputId": "707b7db0-26b8-43b1-a1b2-08f534a7826c",
        "colab": {
          "base_uri": "https://localhost:8080/",
          "height": 35
        }
      },
      "source": [
        "temp = [1 if x==True else 0 for x in temp]\n",
        "temp"
      ],
      "execution_count": null,
      "outputs": [
        {
          "output_type": "execute_result",
          "data": {
            "text/plain": [
              "[0, 1, 0, 0, 0]"
            ]
          },
          "metadata": {
            "tags": []
          },
          "execution_count": 148
        }
      ]
    },
    {
      "cell_type": "code",
      "metadata": {
        "id": "i5EVTeiEjznQ",
        "outputId": "addb0157-75e6-4cbb-8020-5aae819e4345",
        "colab": {
          "base_uri": "https://localhost:8080/",
          "height": 35
        }
      },
      "source": [
        "for i in range(len(Name)):\n",
        "  if temp[i] ==1:\n",
        "    print('ket qua xuat hien o',Name[i])"
      ],
      "execution_count": null,
      "outputs": [
        {
          "output_type": "stream",
          "text": [
            "ket qua xuat hien o file3\n"
          ],
          "name": "stdout"
        }
      ]
    }
  ]
}