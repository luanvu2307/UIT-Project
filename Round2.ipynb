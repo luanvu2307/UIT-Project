{
  "nbformat": 4,
  "nbformat_minor": 0,
  "metadata": {
    "colab": {
      "name": "Round2.ipynb",
      "provenance": [],
      "collapsed_sections": [],
      "authorship_tag": "ABX9TyOE9J5uQoykm5WJJ71B7Ktt",
      "include_colab_link": true
    },
    "kernelspec": {
      "name": "python3",
      "display_name": "Python 3"
    }
  },
  "cells": [
    {
      "cell_type": "markdown",
      "metadata": {
        "id": "view-in-github",
        "colab_type": "text"
      },
      "source": [
        "<a href=\"https://colab.research.google.com/github/snfruby/CS114.K21/blob/master/Round2.ipynb\" target=\"_parent\"><img src=\"https://colab.research.google.com/assets/colab-badge.svg\" alt=\"Open In Colab\"/></a>"
      ]
    },
    {
      "cell_type": "code",
      "metadata": {
        "id": "UctOhgEvDSXL",
        "colab_type": "code",
        "colab": {}
      },
      "source": [
        "from google.colab import files\n",
        "import pandas as pd\n",
        "import numpy as np"
      ],
      "execution_count": 0,
      "outputs": []
    },
    {
      "cell_type": "code",
      "metadata": {
        "id": "NelAOBBcD_fE",
        "colab_type": "code",
        "outputId": "67fb3773-a00a-4f03-ad91-4bedbcc6c164",
        "colab": {
          "base_uri": "https://localhost:8080/",
          "height": 136
        }
      },
      "source": [
        "data = pd.read_csv('http://cs.uit.edu.vn/data2.txt', names = ['size', 'time'])\n",
        "print(data.head())\n",
        "data.shape"
      ],
      "execution_count": 8,
      "outputs": [
        {
          "output_type": "stream",
          "text": [
            "      size      time\n",
            "0  6083695  0.521842\n",
            "1  1954367  0.152648\n",
            "2  3734185  0.298548\n",
            "3  5839301  0.460480\n",
            "4  6343427  0.527977\n"
          ],
          "name": "stdout"
        },
        {
          "output_type": "execute_result",
          "data": {
            "text/plain": [
              "(71115, 2)"
            ]
          },
          "metadata": {
            "tags": []
          },
          "execution_count": 8
        }
      ]
    },
    {
      "cell_type": "markdown",
      "metadata": {
        "id": "Y6WOhgCT4WAI",
        "colab_type": "text"
      },
      "source": [
        "Lấy dữ liệu xuống bằng cách import thư viện pandas để đọc data dạng URL\n"
      ]
    },
    {
      "cell_type": "code",
      "metadata": {
        "id": "lrTL19xK9A99",
        "colab_type": "code",
        "outputId": "102fe523-deb5-4391-9af2-52cb31cc9d8a",
        "colab": {
          "base_uri": "https://localhost:8080/",
          "height": 34
        }
      },
      "source": [
        "from sklearn.model_selection import train_test_split\n",
        "X=data['size']\n",
        "y=data['time']\n",
        "X_train, X_valid, y_train, y_valid = train_test_split(X, y, test_size=0.2, random_state=1)\n",
        "X_train = X_train.values.reshape(-1,1)\n",
        "X_valid = X_valid.values.reshape(-1,1)\n",
        "y_train = y_train.values.reshape(-1,1)\n",
        "y_valid = y_valid.values.reshape(-1,1)\n",
        "print(X_train.shape, y_train.shape)"
      ],
      "execution_count": 9,
      "outputs": [
        {
          "output_type": "stream",
          "text": [
            "(56892, 1) (56892, 1)\n"
          ],
          "name": "stdout"
        }
      ]
    },
    {
      "cell_type": "markdown",
      "metadata": {
        "id": "m0jOMixh4i-L",
        "colab_type": "text"
      },
      "source": [
        "Đưa cột 'size' làm feature , cột 'time' làm label\n",
        "\n",
        "phân chia dữ liệu train và valid với tỉ lệ 8/2\n",
        "\n",
        "Reshape lại dữ liệu vì lúc này feature ở dạng array 1 chiều , mà Train test split chỉ chấp nhận dữ liệu 2 chiều."
      ]
    },
    {
      "cell_type": "code",
      "metadata": {
        "id": "ZL9UpF94I7sh",
        "colab_type": "code",
        "outputId": "5c82c281-e889-4538-b784-043176b39090",
        "colab": {
          "base_uri": "https://localhost:8080/",
          "height": 34
        }
      },
      "source": [
        "from sklearn.metrics import mean_absolute_error\n",
        "from sklearn.linear_model import LinearRegression\n",
        "model=LinearRegression()\n",
        "model.fit(X_train, y_train)\n",
        "val_pre = model.predict(X_valid)\n",
        "val_mae = mean_absolute_error(val_pre, y_valid)\n",
        "print(\"Mean absolute error:\", val_mae)"
      ],
      "execution_count": 11,
      "outputs": [
        {
          "output_type": "stream",
          "text": [
            "Mean absolute error: 0.00831551754510758\n"
          ],
          "name": "stdout"
        }
      ]
    },
    {
      "cell_type": "markdown",
      "metadata": {
        "id": "zvctoR-_4njk",
        "colab_type": "text"
      },
      "source": [
        "Khảo sát với thuật toán Linear regression và kiểm tra model bằng sai số tuyệt đối ( mean absolute error )"
      ]
    },
    {
      "cell_type": "code",
      "metadata": {
        "id": "Xkc-D-nG328P",
        "colab_type": "code",
        "outputId": "c41bf85a-add7-4eaa-d49b-da5c6ca65a99",
        "colab": {
          "base_uri": "https://localhost:8080/",
          "height": 51
        }
      },
      "source": [
        "LR_model = LinearRegression()\n",
        "LR_model.fit(X_train , y_train)\n",
        "val_pred_1 = LR_model.predict(X_valid)\n",
        "print (mean_absolute_error(val_pred_1 , y_valid))\n",
        "new_data = {'input size':[5839301] }\n",
        "data_convert_2=pd.DataFrame.from_dict(new_data) \n",
        "print (LR_model.predict(data_convert_2))"
      ],
      "execution_count": 12,
      "outputs": [
        {
          "output_type": "stream",
          "text": [
            "0.00831551754510758\n",
            "[[0.47783484]]\n"
          ],
          "name": "stdout"
        }
      ]
    },
    {
      "cell_type": "markdown",
      "metadata": {
        "id": "DD1aRFUB4z2E",
        "colab_type": "text"
      },
      "source": [
        "Tạo 1 biến dữ liệu mới đưa vào model để train và thực hiện dự đoán\n",
        "Khả năng dự đoán của model là tốt bởi vì khi đưa 1 dữ liệu trong tập train vào dự đoán thì kết quả xấp xỉ gần như bằng với kết quả của dataset."
      ]
    }
  ]
}