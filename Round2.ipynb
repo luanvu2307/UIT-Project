{
  "nbformat": 4,
  "nbformat_minor": 0,
  "metadata": {
    "colab": {
      "name": "Round2.ipynb",
      "provenance": [],
      "collapsed_sections": [],
      "authorship_tag": "ABX9TyMe7+jY0a/EslcsugWu1p/m",
      "include_colab_link": true
    },
    "kernelspec": {
      "name": "python3",
      "display_name": "Python 3"
    }
  },
  "cells": [
    {
      "cell_type": "markdown",
      "metadata": {
        "id": "view-in-github",
        "colab_type": "text"
      },
      "source": [
        "<a href=\"https://colab.research.google.com/github/snfruby/CS114.K21/blob/master/Round2.ipynb\" target=\"_parent\"><img src=\"https://colab.research.google.com/assets/colab-badge.svg\" alt=\"Open In Colab\"/></a>"
      ]
    },
    {
      "cell_type": "code",
      "metadata": {
        "id": "UctOhgEvDSXL",
        "colab_type": "code",
        "colab": {}
      },
      "source": [
        "from google.colab import files\n",
        "import pandas as pd\n",
        "import numpy as np"
      ],
      "execution_count": 0,
      "outputs": []
    },
    {
      "cell_type": "code",
      "metadata": {
        "id": "NelAOBBcD_fE",
        "colab_type": "code",
        "outputId": "e3b67938-0b05-447c-d83e-49553c1809ee",
        "colab": {
          "base_uri": "https://localhost:8080/",
          "height": 34
        }
      },
      "source": [
        "data = pd.read_csv('http://cs.uit.edu.vn/data2.txt', names = ['size', 'time'])\n",
        "data.head()\n",
        "print(data.shape)"
      ],
      "execution_count": 0,
      "outputs": [
        {
          "output_type": "stream",
          "text": [
            "(71115, 2)\n"
          ],
          "name": "stdout"
        }
      ]
    },
    {
      "cell_type": "markdown",
      "metadata": {
        "id": "Y6WOhgCT4WAI",
        "colab_type": "text"
      },
      "source": [
        "Lấy dữ liệu xuống bằng cách import thư viện pandas để đọc data dạng URL\n"
      ]
    },
    {
      "cell_type": "code",
      "metadata": {
        "id": "lrTL19xK9A99",
        "colab_type": "code",
        "outputId": "144fc496-a849-4d69-8760-27ecb84f72bd",
        "colab": {
          "base_uri": "https://localhost:8080/",
          "height": 34
        }
      },
      "source": [
        "from sklearn.model_selection import train_test_split\n",
        "X=data['size']\n",
        "y=data['time']\n",
        "X_train, X_valid, y_train, y_valid = train_test_split(X, y, test_size=0.2, random_state=1)\n",
        "X_train = X_train.values.reshape(-1,1)\n",
        "X_valid = X_valid.values.reshape(-1,1)\n",
        "y_train = y_train.values.reshape(-1,1)\n",
        "y_valid = y_valid.values.reshape(-1,1)\n",
        "print(X_train.shape, y_train.shape)"
      ],
      "execution_count": 0,
      "outputs": [
        {
          "output_type": "stream",
          "text": [
            "(56892, 1) (56892, 1)\n"
          ],
          "name": "stdout"
        }
      ]
    },
    {
      "cell_type": "markdown",
      "metadata": {
        "id": "m0jOMixh4i-L",
        "colab_type": "text"
      },
      "source": [
        "phân tách bảng để lấy các features cần cho dự đoán\n",
        "\n",
        "phân chia dữ liệu train và valid với tỉ lệ 8/2\n",
        "\n",
        "reshape lại dữ liệu vì lúc này dữ liệu đang ở dạng array 1 chiều"
      ]
    },
    {
      "cell_type": "code",
      "metadata": {
        "id": "ZL9UpF94I7sh",
        "colab_type": "code",
        "outputId": "4a1cdee0-cbad-4b2a-d5ad-61becfa5db80",
        "colab": {
          "base_uri": "https://localhost:8080/",
          "height": 34
        }
      },
      "source": [
        "from sklearn.metrics import mean_absolute_error\n",
        "models =[]\n",
        "models.append(('LR', LinearRegression()))\n",
        "r={}\n",
        "for name, model in models:\n",
        "  model.fit(X_train, y_train)\n",
        "  val_pre = model.predict(X_valid)\n",
        "  val_mae = mean_absolute_error(val_pre, y_valid)\n",
        "  r[name]=val_mae\n",
        "  print(name,\":\",val_mae)"
      ],
      "execution_count": 0,
      "outputs": [
        {
          "output_type": "stream",
          "text": [
            "LR : 0.00831551754510758\n"
          ],
          "name": "stdout"
        }
      ]
    },
    {
      "cell_type": "markdown",
      "metadata": {
        "id": "zvctoR-_4njk",
        "colab_type": "text"
      },
      "source": [
        "Khảo sát với thuật toán Linear regression và kiểm tra model bằng sai số tuyệt đối ( mean absolute error )"
      ]
    },
    {
      "cell_type": "code",
      "metadata": {
        "id": "yv2UxDyBQTHg",
        "colab_type": "code",
        "outputId": "d2f655bb-717f-47f7-a7d0-90a84c16d957",
        "colab": {
          "base_uri": "https://localhost:8080/",
          "height": 265
        }
      },
      "source": [
        "from matplotlib import pyplot\n",
        "pyplot.bar(r.keys(), r.values(), width=0.5)\n",
        "pyplot.show()"
      ],
      "execution_count": 0,
      "outputs": [
        {
          "output_type": "display_data",
          "data": {
            "image/png": "[encoded data removed]",
            "text/plain": [
              "<Figure size 432x288 with 1 Axes>"
            ]
          },
          "metadata": {
            "tags": [],
            "needs_background": "light"
          }
        }
      ]
    },
    {
      "cell_type": "code",
      "metadata": {
        "id": "Xkc-D-nG328P",
        "colab_type": "code",
        "outputId": "e4e330f2-f561-4f3d-e026-ad996a59f37e",
        "colab": {
          "base_uri": "https://localhost:8080/",
          "height": 51
        }
      },
      "source": [
        "LR_model = LinearRegression()\n",
        "LR_model.fit(X_train , y_train)\n",
        "val_pred_1 = LR_model.predict(X_valid)\n",
        "print (mean_absolute_error(val_pred_1 , y_valid))\n",
        "new_data = {'input size':[5839301] }\n",
        "data_convert_2=pd.DataFrame.from_dict(new_data) \n",
        "print (LR_model.predict(data_convert_2))"
      ],
      "execution_count": 0,
      "outputs": [
        {
          "output_type": "stream",
          "text": [
            "0.00831551754510758\n",
            "[[0.47783484]]\n"
          ],
          "name": "stdout"
        }
      ]
    },
    {
      "cell_type": "markdown",
      "metadata": {
        "id": "DD1aRFUB4z2E",
        "colab_type": "text"
      },
      "source": [
        "Tạo 1 biến dữ liệu mới đưa vào model để train và thực hiện dự đoán"
      ]
    }
  ]
}